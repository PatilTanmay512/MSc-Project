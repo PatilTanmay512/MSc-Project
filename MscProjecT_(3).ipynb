{
  "nbformat": 4,
  "nbformat_minor": 0,
  "metadata": {
    "colab": {
      "provenance": [],
      "include_colab_link": true
    },
    "kernelspec": {
      "name": "python3",
      "display_name": "Python 3"
    },
    "language_info": {
      "name": "python"
    }
  },
  "cells": [
    {
      "cell_type": "markdown",
      "metadata": {
        "id": "view-in-github",
        "colab_type": "text"
      },
      "source": [
        "<a href=\"https://colab.research.google.com/github/PatilTanmay512/MSc-Project/blob/main/MscProjecT_(3).ipynb\" target=\"_parent\"><img src=\"https://colab.research.google.com/assets/colab-badge.svg\" alt=\"Open In Colab\"/></a>"
      ]
    },
    {
      "cell_type": "code",
      "execution_count": null,
      "metadata": {
        "id": "COUdvY48S_wI",
        "outputId": "0612886b-7460-49fc-8680-cc2f7f1a88d2",
        "colab": {
          "base_uri": "https://localhost:8080/"
        }
      },
      "outputs": [
        {
          "output_type": "stream",
          "name": "stderr",
          "text": [
            "/usr/local/lib/python3.7/dist-packages/statsmodels/tools/_testing.py:19: FutureWarning: pandas.util.testing is deprecated. Use the functions in the public API at pandas.testing instead.\n",
            "  import pandas.util.testing as tm\n"
          ]
        }
      ],
      "source": [
        "import os\n",
        "import math \n",
        "import numpy as np\n",
        "import pandas as pd\n",
        "import matplotlib.pyplot as plt\n",
        "import plotly.express as px\n",
        "import seaborn as sns\n",
        "from scipy import stats\n",
        "from statsmodels.stats.outliers_influence import variance_inflation_factor\n",
        "from sklearn.feature_selection import VarianceThreshold\n",
        "from sklearn.preprocessing import StandardScaler\n",
        "from sklearn.preprocessing import LabelEncoder\n",
        "from sklearn.model_selection import GridSearchCV\n",
        "from sklearn.feature_selection import SelectFromModel\n",
        "from sklearn.metrics import classification_report, roc_curve, precision_recall_curve, roc_auc_score,f1_score, confusion_matrix , plot_confusion_matrix , accuracy_score , precision_score , recall_score\n",
        "from sklearn.linear_model import LogisticRegression\n",
        "from sklearn.neighbors import KNeighborsClassifier\n",
        "from sklearn.svm import SVC\n",
        "from sklearn.svm import LinearSVC\n",
        "from sklearn.kernel_approximation import Nystroem\n",
        "from sklearn.kernel_approximation import RBFSampler\n",
        "from sklearn.naive_bayes import MultinomialNB\n",
        "from sklearn.tree import DecisionTreeClassifier\n",
        "from sklearn.ensemble import GradientBoostingClassifier, RandomForestClassifier \n",
        "from sklearn.model_selection import StratifiedShuffleSplit, GridSearchCV\n",
        "import xgboost as xgb\n",
        "from imblearn.over_sampling import SMOTE\n",
        "from imblearn.under_sampling import ClusterCentroids\n",
        "import pickle\n",
        "import warnings\n",
        "warnings.filterwarnings('ignore')\n",
        "\n",
        "%matplotlib inline\n"
      ]
    },
    {
      "cell_type": "code",
      "source": [
        "pd.options.mode.chained_assignment = None  \n",
        "pd.options.display.max_rows = 200\n",
        "pd.options.display.max_columns = 150\n",
        "sns.set_theme()"
      ],
      "metadata": {
        "id": "gUydc0C0TFaV"
      },
      "execution_count": null,
      "outputs": []
    },
    {
      "cell_type": "code",
      "source": [
        "data=pd.read_csv('/content/drive/MyDrive/Loan_data',low_memory=False)"
      ],
      "metadata": {
        "id": "vjPCP24cTFWS"
      },
      "execution_count": null,
      "outputs": []
    },
    {
      "cell_type": "code",
      "source": [
        "data = data.drop(['Unnamed: 0','member_id'],axis = 1)"
      ],
      "metadata": {
        "id": "55OxAuoZTFTC"
      },
      "execution_count": null,
      "outputs": []
    },
    {
      "cell_type": "code",
      "source": [
        "data.loan_status.value_counts()"
      ],
      "metadata": {
        "colab": {
          "base_uri": "https://localhost:8080/"
        },
        "id": "1S8GSzbyTFPl",
        "outputId": "a080e544-eab7-43b7-eb1a-87f7deaed540"
      },
      "execution_count": null,
      "outputs": [
        {
          "output_type": "execute_result",
          "data": {
            "text/plain": [
              "Fully Paid                                             702354\n",
              "Charged Off                                            268559\n",
              "Late (31-120 days)                                      21467\n",
              "In Grace Period                                          8436\n",
              "Late (16-30 days)                                        4349\n",
              "Does not meet the credit policy. Status:Fully Paid       1988\n",
              "Does not meet the credit policy. Status:Charged Off       761\n",
              "Default                                                    40\n",
              "Name: loan_status, dtype: int64"
            ]
          },
          "metadata": {},
          "execution_count": 5
        }
      ]
    },
    {
      "cell_type": "code",
      "source": [
        "Loan_Main = data.copy()"
      ],
      "metadata": {
        "id": "VT3MdsSsTFM2"
      },
      "execution_count": null,
      "outputs": []
    },
    {
      "cell_type": "code",
      "source": [
        "Loan_Main['loan_status'] =  np.where(Loan_Main['loan_status'].str.contains('Fully'),0,1)"
      ],
      "metadata": {
        "id": "XBgF8uLUTFJ-"
      },
      "execution_count": null,
      "outputs": []
    },
    {
      "cell_type": "code",
      "source": [
        "Loan_Main.loan_status.value_counts()"
      ],
      "metadata": {
        "colab": {
          "base_uri": "https://localhost:8080/"
        },
        "id": "wqwXGpfgTFGr",
        "outputId": "9ec03601-44ef-4969-b79b-d944def5dbbf"
      },
      "execution_count": null,
      "outputs": [
        {
          "output_type": "execute_result",
          "data": {
            "text/plain": [
              "0    704375\n",
              "1    303612\n",
              "Name: loan_status, dtype: int64"
            ]
          },
          "metadata": {},
          "execution_count": 8
        }
      ]
    },
    {
      "cell_type": "code",
      "source": [
        "def emp_to_num(term):\n",
        "    if pd.isna(term):\n",
        "        return None\n",
        "    elif term[2]=='+':\n",
        "        return 10\n",
        "    elif term[0]=='<':\n",
        "        return 0\n",
        "    else:\n",
        "        return int(term[0])\n",
        "\n",
        "Loan_Main['emp_length'] = Loan_Main['emp_length'].apply(emp_to_num)"
      ],
      "metadata": {
        "id": "NJwX7IgWTFDz"
      },
      "execution_count": null,
      "outputs": []
    },
    {
      "cell_type": "code",
      "source": [
        "nunique_val = Loan_Main.apply(pd.Series.nunique)\n",
        "single_val_cols = nunique_val[nunique_val == 1].index.tolist()\n",
        "single_val_cols"
      ],
      "metadata": {
        "colab": {
          "base_uri": "https://localhost:8080/"
        },
        "id": "fN4TFqhaTFA5",
        "outputId": "125d71ca-2941-4fdf-8d1a-5339dd53cf9f"
      },
      "execution_count": null,
      "outputs": [
        {
          "output_type": "execute_result",
          "data": {
            "text/plain": [
              "['policy_code', 'hardship_type', 'deferral_term', 'hardship_length']"
            ]
          },
          "metadata": {},
          "execution_count": 10
        }
      ]
    },
    {
      "cell_type": "code",
      "source": [
        "Loan_Main= Loan_Main.drop(single_val_cols, axis =1)"
      ],
      "metadata": {
        "id": "PetrfD_jTE9_"
      },
      "execution_count": null,
      "outputs": []
    },
    {
      "cell_type": "code",
      "source": [
        "a=Loan_Main.isnull().sum()/len(Loan_Main)*100\n",
        "variables = Loan_Main.columns\n",
        "len(variables)"
      ],
      "metadata": {
        "colab": {
          "base_uri": "https://localhost:8080/"
        },
        "id": "ipN4LuXlTE7G",
        "outputId": "4d6348de-86f9-43e1-f739-c8d6a22e5e98"
      },
      "execution_count": null,
      "outputs": [
        {
          "output_type": "execute_result",
          "data": {
            "text/plain": [
              "145"
            ]
          },
          "metadata": {},
          "execution_count": 12
        }
      ]
    },
    {
      "cell_type": "code",
      "source": [
        "variable = [ ]\n",
        "for i in range(0,len(variables)):\n",
        "    if a[i]<50: \n",
        "        variable.append(variables[i])\n",
        " \n",
        "drop_columns1=list(set(variables) - set(variable))\n",
        "df_drop_nan=Loan_Main.drop(columns=drop_columns1)"
      ],
      "metadata": {
        "id": "day4GVLmTE4D"
      },
      "execution_count": null,
      "outputs": []
    },
    {
      "cell_type": "code",
      "source": [
        "((df_drop_nan.isnull().sum()/len(df_drop_nan))*100).sort_values(ascending=False)"
      ],
      "metadata": {
        "colab": {
          "base_uri": "https://localhost:8080/"
        },
        "id": "DWOSMvlFTE1a",
        "outputId": "31d0eafb-2434-4b8e-d395-c0152cbafe1e"
      },
      "execution_count": null,
      "outputs": [
        {
          "output_type": "execute_result",
          "data": {
            "text/plain": [
              "mths_since_recent_inq         13.839663\n",
              "num_tl_120dpd_2m              10.542894\n",
              "mo_sin_old_il_acct             9.771455\n",
              "pct_tl_nvr_dlq                 6.990368\n",
              "avg_cur_bal                    6.977372\n",
              "mo_sin_rcnt_rev_tl_op          6.975288\n",
              "mo_sin_old_rev_tl_op           6.975288\n",
              "num_rev_accts                  6.975189\n",
              "num_tl_30dpd                   6.975189\n",
              "num_il_tl                      6.975189\n",
              "num_bc_tl                      6.975189\n",
              "num_rev_tl_bal_gt_0            6.975189\n",
              "tot_coll_amt                   6.975189\n",
              "tot_cur_bal                    6.975189\n",
              "total_rev_hi_lim               6.975189\n",
              "num_actv_rev_tl                6.975189\n",
              "num_tl_90g_dpd_24m             6.975189\n",
              "num_op_rev_tl                  6.975189\n",
              "num_tl_op_past_12m             6.975189\n",
              "num_actv_bc_tl                 6.975189\n",
              "num_accts_ever_120_pd          6.975189\n",
              "tot_hi_cred_lim                6.975189\n",
              "total_il_high_credit_limit     6.975189\n",
              "mo_sin_rcnt_tl                 6.975189\n",
              "emp_title                      6.730940\n",
              "bc_util                        6.060792\n",
              "percent_bc_gt_75               6.024284\n",
              "bc_open_to_buy                 6.004542\n",
              "emp_length                     5.975275\n",
              "mths_since_recent_bc           5.928053\n",
              "num_bc_sats                    5.815849\n",
              "num_sats                       5.815849\n",
              "mort_acc                       4.966632\n",
              "acc_open_past_24mths           4.966632\n",
              "total_bal_ex_mort              4.966632\n",
              "total_bc_limit                 4.966632\n",
              "title                          1.571449\n",
              "last_pymnt_d                   0.244051\n",
              "pub_rec_bankruptcies           0.138692\n",
              "revol_util                     0.077680\n",
              "dti                            0.032441\n",
              "collections_12_mths_ex_med     0.017659\n",
              "chargeoff_within_12_mths       0.017659\n",
              "tax_liens                      0.013691\n",
              "last_credit_pull_d             0.008234\n",
              "inq_last_6mths                 0.006250\n",
              "total_acc                      0.006151\n",
              "delinq_amnt                    0.006151\n",
              "pub_rec                        0.006151\n",
              "open_acc                       0.006151\n",
              "acc_now_delinq                 0.006151\n",
              "earliest_cr_line               0.006151\n",
              "delinq_2yrs                    0.006151\n",
              "annual_inc                     0.003671\n",
              "zip_code                       0.003373\n",
              "hardship_flag                  0.003274\n",
              "disbursement_method            0.003274\n",
              "loan_amnt                      0.003274\n",
              "last_fico_range_high           0.003274\n",
              "application_type               0.003274\n",
              "last_fico_range_low            0.003274\n",
              "funded_amnt_inv                0.003274\n",
              "term                           0.003274\n",
              "int_rate                       0.003274\n",
              "installment                    0.003274\n",
              "grade                          0.003274\n",
              "sub_grade                      0.003274\n",
              "home_ownership                 0.003274\n",
              "verification_status            0.003274\n",
              "issue_d                        0.003274\n",
              "pymnt_plan                     0.003274\n",
              "url                            0.003274\n",
              "purpose                        0.003274\n",
              "addr_state                     0.003274\n",
              "fico_range_low                 0.003274\n",
              "fico_range_high                0.003274\n",
              "revol_bal                      0.003274\n",
              "initial_list_status            0.003274\n",
              "out_prncp                      0.003274\n",
              "out_prncp_inv                  0.003274\n",
              "total_pymnt                    0.003274\n",
              "total_pymnt_inv                0.003274\n",
              "total_rec_prncp                0.003274\n",
              "total_rec_int                  0.003274\n",
              "total_rec_late_fee             0.003274\n",
              "recoveries                     0.003274\n",
              "collection_recovery_fee        0.003274\n",
              "last_pymnt_amnt                0.003274\n",
              "funded_amnt                    0.003274\n",
              "debt_settlement_flag           0.003274\n",
              "loan_status                    0.000000\n",
              "dtype: float64"
            ]
          },
          "metadata": {},
          "execution_count": 14
        }
      ]
    },
    {
      "cell_type": "markdown",
      "source": [
        "***Since we don't have a clear understanding for many features, it would be unwise to include them into our analysis without truly understanding a feature. \\ Moreover, not all features will be available to us before a person gets loan. \\ Some features will only be available after a person gets a loan. We have the following features we will be proceeding with the given features ***"
      ],
      "metadata": {
        "id": "ZvFGjwMlT5Ro"
      }
    },
    {
      "cell_type": "code",
      "source": [
        "final_features = ['loan_amnt', 'term', 'int_rate', 'installment', 'grade', 'sub_grade',\n",
        "                          'emp_title', 'emp_length', 'home_ownership', 'annual_inc',\n",
        "                          'verification_status', 'issue_d', 'loan_status', 'purpose', 'title',\"addr_state\",\n",
        "                          'dti', 'earliest_cr_line', 'open_acc', 'pub_rec', 'revol_bal',\n",
        "                          'revol_util', 'total_acc', 'initial_list_status', 'application_type',\n",
        "                          'mort_acc', 'pub_rec_bankruptcies','fico_range_low','fico_range_high']"
      ],
      "metadata": {
        "id": "rGs7MVVBT1cC"
      },
      "execution_count": null,
      "outputs": []
    },
    {
      "cell_type": "code",
      "source": [
        "df = df_drop_nan[final_features]"
      ],
      "metadata": {
        "id": "LkcQqtJtT1ZO"
      },
      "execution_count": null,
      "outputs": []
    },
    {
      "cell_type": "code",
      "source": [
        "df.describe().T"
      ],
      "metadata": {
        "colab": {
          "base_uri": "https://localhost:8080/",
          "height": 551
        },
        "id": "hFrNdnSZT1Wy",
        "outputId": "6a2e7aa4-e64c-4616-dda4-12c961f7a760"
      },
      "execution_count": null,
      "outputs": [
        {
          "output_type": "execute_result",
          "data": {
            "text/plain": [
              "                          count          mean           std     min       25%  \\\n",
              "loan_amnt             1007954.0  14548.746471   8773.824100  500.00   8000.00   \n",
              "int_rate              1007954.0     13.807262      4.861595    5.31     10.49   \n",
              "installment           1007954.0    442.178182    263.362785    4.93    251.55   \n",
              "emp_length             947757.0      5.946822      3.683302    0.00      2.00   \n",
              "annual_inc            1007950.0  75607.791317  68894.605344    0.00  45000.00   \n",
              "loan_status           1007987.0      0.301206      0.458782    0.00      0.00   \n",
              "dti                   1007660.0     18.284156     11.142748   -1.00     11.80   \n",
              "open_acc              1007925.0     11.538216      5.437588    0.00      8.00   \n",
              "pub_rec               1007925.0      0.210961      0.598688    0.00      0.00   \n",
              "revol_bal             1007954.0  15989.252538  21620.998266    0.00   5923.00   \n",
              "revol_util            1007204.0     52.176980     24.564453    0.00     33.90   \n",
              "total_acc             1007925.0     24.832734     11.962124    1.00     16.00   \n",
              "mort_acc               957924.0      1.642815      1.995772    0.00      0.00   \n",
              "pub_rec_bankruptcies  1006589.0      0.134016      0.375993    0.00      0.00   \n",
              "fico_range_low        1007954.0    695.714720     31.516808  610.00    670.00   \n",
              "fico_range_high       1007954.0    699.714844     31.517398  614.00    674.00   \n",
              "\n",
              "                           50%       75%         max  \n",
              "loan_amnt             12000.00  20000.00    40000.00  \n",
              "int_rate                 13.35     16.59       30.99  \n",
              "installment             378.22    584.96     1719.83  \n",
              "emp_length                6.00     10.00       10.00  \n",
              "annual_inc            65000.00  90000.00  9573072.00  \n",
              "loan_status               0.00      1.00        1.00  \n",
              "dti                      17.63     24.04      999.00  \n",
              "open_acc                 11.00     14.00       88.00  \n",
              "pub_rec                   0.00      0.00       86.00  \n",
              "revol_bal             11093.00  19559.00  2568995.00  \n",
              "revol_util               52.70     71.20      892.30  \n",
              "total_acc                23.00     32.00      176.00  \n",
              "mort_acc                  1.00      3.00       51.00  \n",
              "pub_rec_bankruptcies      0.00      0.00       12.00  \n",
              "fico_range_low          690.00    710.00      845.00  \n",
              "fico_range_high         694.00    714.00      850.00  "
            ],
            "text/html": [
              "\n",
              "  <div id=\"df-1c19506d-9df3-4ff5-95cb-2c23eb1b3b4d\">\n",
              "    <div class=\"colab-df-container\">\n",
              "      <div>\n",
              "<style scoped>\n",
              "    .dataframe tbody tr th:only-of-type {\n",
              "        vertical-align: middle;\n",
              "    }\n",
              "\n",
              "    .dataframe tbody tr th {\n",
              "        vertical-align: top;\n",
              "    }\n",
              "\n",
              "    .dataframe thead th {\n",
              "        text-align: right;\n",
              "    }\n",
              "</style>\n",
              "<table border=\"1\" class=\"dataframe\">\n",
              "  <thead>\n",
              "    <tr style=\"text-align: right;\">\n",
              "      <th></th>\n",
              "      <th>count</th>\n",
              "      <th>mean</th>\n",
              "      <th>std</th>\n",
              "      <th>min</th>\n",
              "      <th>25%</th>\n",
              "      <th>50%</th>\n",
              "      <th>75%</th>\n",
              "      <th>max</th>\n",
              "    </tr>\n",
              "  </thead>\n",
              "  <tbody>\n",
              "    <tr>\n",
              "      <th>loan_amnt</th>\n",
              "      <td>1007954.0</td>\n",
              "      <td>14548.746471</td>\n",
              "      <td>8773.824100</td>\n",
              "      <td>500.00</td>\n",
              "      <td>8000.00</td>\n",
              "      <td>12000.00</td>\n",
              "      <td>20000.00</td>\n",
              "      <td>40000.00</td>\n",
              "    </tr>\n",
              "    <tr>\n",
              "      <th>int_rate</th>\n",
              "      <td>1007954.0</td>\n",
              "      <td>13.807262</td>\n",
              "      <td>4.861595</td>\n",
              "      <td>5.31</td>\n",
              "      <td>10.49</td>\n",
              "      <td>13.35</td>\n",
              "      <td>16.59</td>\n",
              "      <td>30.99</td>\n",
              "    </tr>\n",
              "    <tr>\n",
              "      <th>installment</th>\n",
              "      <td>1007954.0</td>\n",
              "      <td>442.178182</td>\n",
              "      <td>263.362785</td>\n",
              "      <td>4.93</td>\n",
              "      <td>251.55</td>\n",
              "      <td>378.22</td>\n",
              "      <td>584.96</td>\n",
              "      <td>1719.83</td>\n",
              "    </tr>\n",
              "    <tr>\n",
              "      <th>emp_length</th>\n",
              "      <td>947757.0</td>\n",
              "      <td>5.946822</td>\n",
              "      <td>3.683302</td>\n",
              "      <td>0.00</td>\n",
              "      <td>2.00</td>\n",
              "      <td>6.00</td>\n",
              "      <td>10.00</td>\n",
              "      <td>10.00</td>\n",
              "    </tr>\n",
              "    <tr>\n",
              "      <th>annual_inc</th>\n",
              "      <td>1007950.0</td>\n",
              "      <td>75607.791317</td>\n",
              "      <td>68894.605344</td>\n",
              "      <td>0.00</td>\n",
              "      <td>45000.00</td>\n",
              "      <td>65000.00</td>\n",
              "      <td>90000.00</td>\n",
              "      <td>9573072.00</td>\n",
              "    </tr>\n",
              "    <tr>\n",
              "      <th>loan_status</th>\n",
              "      <td>1007987.0</td>\n",
              "      <td>0.301206</td>\n",
              "      <td>0.458782</td>\n",
              "      <td>0.00</td>\n",
              "      <td>0.00</td>\n",
              "      <td>0.00</td>\n",
              "      <td>1.00</td>\n",
              "      <td>1.00</td>\n",
              "    </tr>\n",
              "    <tr>\n",
              "      <th>dti</th>\n",
              "      <td>1007660.0</td>\n",
              "      <td>18.284156</td>\n",
              "      <td>11.142748</td>\n",
              "      <td>-1.00</td>\n",
              "      <td>11.80</td>\n",
              "      <td>17.63</td>\n",
              "      <td>24.04</td>\n",
              "      <td>999.00</td>\n",
              "    </tr>\n",
              "    <tr>\n",
              "      <th>open_acc</th>\n",
              "      <td>1007925.0</td>\n",
              "      <td>11.538216</td>\n",
              "      <td>5.437588</td>\n",
              "      <td>0.00</td>\n",
              "      <td>8.00</td>\n",
              "      <td>11.00</td>\n",
              "      <td>14.00</td>\n",
              "      <td>88.00</td>\n",
              "    </tr>\n",
              "    <tr>\n",
              "      <th>pub_rec</th>\n",
              "      <td>1007925.0</td>\n",
              "      <td>0.210961</td>\n",
              "      <td>0.598688</td>\n",
              "      <td>0.00</td>\n",
              "      <td>0.00</td>\n",
              "      <td>0.00</td>\n",
              "      <td>0.00</td>\n",
              "      <td>86.00</td>\n",
              "    </tr>\n",
              "    <tr>\n",
              "      <th>revol_bal</th>\n",
              "      <td>1007954.0</td>\n",
              "      <td>15989.252538</td>\n",
              "      <td>21620.998266</td>\n",
              "      <td>0.00</td>\n",
              "      <td>5923.00</td>\n",
              "      <td>11093.00</td>\n",
              "      <td>19559.00</td>\n",
              "      <td>2568995.00</td>\n",
              "    </tr>\n",
              "    <tr>\n",
              "      <th>revol_util</th>\n",
              "      <td>1007204.0</td>\n",
              "      <td>52.176980</td>\n",
              "      <td>24.564453</td>\n",
              "      <td>0.00</td>\n",
              "      <td>33.90</td>\n",
              "      <td>52.70</td>\n",
              "      <td>71.20</td>\n",
              "      <td>892.30</td>\n",
              "    </tr>\n",
              "    <tr>\n",
              "      <th>total_acc</th>\n",
              "      <td>1007925.0</td>\n",
              "      <td>24.832734</td>\n",
              "      <td>11.962124</td>\n",
              "      <td>1.00</td>\n",
              "      <td>16.00</td>\n",
              "      <td>23.00</td>\n",
              "      <td>32.00</td>\n",
              "      <td>176.00</td>\n",
              "    </tr>\n",
              "    <tr>\n",
              "      <th>mort_acc</th>\n",
              "      <td>957924.0</td>\n",
              "      <td>1.642815</td>\n",
              "      <td>1.995772</td>\n",
              "      <td>0.00</td>\n",
              "      <td>0.00</td>\n",
              "      <td>1.00</td>\n",
              "      <td>3.00</td>\n",
              "      <td>51.00</td>\n",
              "    </tr>\n",
              "    <tr>\n",
              "      <th>pub_rec_bankruptcies</th>\n",
              "      <td>1006589.0</td>\n",
              "      <td>0.134016</td>\n",
              "      <td>0.375993</td>\n",
              "      <td>0.00</td>\n",
              "      <td>0.00</td>\n",
              "      <td>0.00</td>\n",
              "      <td>0.00</td>\n",
              "      <td>12.00</td>\n",
              "    </tr>\n",
              "    <tr>\n",
              "      <th>fico_range_low</th>\n",
              "      <td>1007954.0</td>\n",
              "      <td>695.714720</td>\n",
              "      <td>31.516808</td>\n",
              "      <td>610.00</td>\n",
              "      <td>670.00</td>\n",
              "      <td>690.00</td>\n",
              "      <td>710.00</td>\n",
              "      <td>845.00</td>\n",
              "    </tr>\n",
              "    <tr>\n",
              "      <th>fico_range_high</th>\n",
              "      <td>1007954.0</td>\n",
              "      <td>699.714844</td>\n",
              "      <td>31.517398</td>\n",
              "      <td>614.00</td>\n",
              "      <td>674.00</td>\n",
              "      <td>694.00</td>\n",
              "      <td>714.00</td>\n",
              "      <td>850.00</td>\n",
              "    </tr>\n",
              "  </tbody>\n",
              "</table>\n",
              "</div>\n",
              "      <button class=\"colab-df-convert\" onclick=\"convertToInteractive('df-1c19506d-9df3-4ff5-95cb-2c23eb1b3b4d')\"\n",
              "              title=\"Convert this dataframe to an interactive table.\"\n",
              "              style=\"display:none;\">\n",
              "        \n",
              "  <svg xmlns=\"http://www.w3.org/2000/svg\" height=\"24px\"viewBox=\"0 0 24 24\"\n",
              "       width=\"24px\">\n",
              "    <path d=\"M0 0h24v24H0V0z\" fill=\"none\"/>\n",
              "    <path d=\"M18.56 5.44l.94 2.06.94-2.06 2.06-.94-2.06-.94-.94-2.06-.94 2.06-2.06.94zm-11 1L8.5 8.5l.94-2.06 2.06-.94-2.06-.94L8.5 2.5l-.94 2.06-2.06.94zm10 10l.94 2.06.94-2.06 2.06-.94-2.06-.94-.94-2.06-.94 2.06-2.06.94z\"/><path d=\"M17.41 7.96l-1.37-1.37c-.4-.4-.92-.59-1.43-.59-.52 0-1.04.2-1.43.59L10.3 9.45l-7.72 7.72c-.78.78-.78 2.05 0 2.83L4 21.41c.39.39.9.59 1.41.59.51 0 1.02-.2 1.41-.59l7.78-7.78 2.81-2.81c.8-.78.8-2.07 0-2.86zM5.41 20L4 18.59l7.72-7.72 1.47 1.35L5.41 20z\"/>\n",
              "  </svg>\n",
              "      </button>\n",
              "      \n",
              "  <style>\n",
              "    .colab-df-container {\n",
              "      display:flex;\n",
              "      flex-wrap:wrap;\n",
              "      gap: 12px;\n",
              "    }\n",
              "\n",
              "    .colab-df-convert {\n",
              "      background-color: #E8F0FE;\n",
              "      border: none;\n",
              "      border-radius: 50%;\n",
              "      cursor: pointer;\n",
              "      display: none;\n",
              "      fill: #1967D2;\n",
              "      height: 32px;\n",
              "      padding: 0 0 0 0;\n",
              "      width: 32px;\n",
              "    }\n",
              "\n",
              "    .colab-df-convert:hover {\n",
              "      background-color: #E2EBFA;\n",
              "      box-shadow: 0px 1px 2px rgba(60, 64, 67, 0.3), 0px 1px 3px 1px rgba(60, 64, 67, 0.15);\n",
              "      fill: #174EA6;\n",
              "    }\n",
              "\n",
              "    [theme=dark] .colab-df-convert {\n",
              "      background-color: #3B4455;\n",
              "      fill: #D2E3FC;\n",
              "    }\n",
              "\n",
              "    [theme=dark] .colab-df-convert:hover {\n",
              "      background-color: #434B5C;\n",
              "      box-shadow: 0px 1px 3px 1px rgba(0, 0, 0, 0.15);\n",
              "      filter: drop-shadow(0px 1px 2px rgba(0, 0, 0, 0.3));\n",
              "      fill: #FFFFFF;\n",
              "    }\n",
              "  </style>\n",
              "\n",
              "      <script>\n",
              "        const buttonEl =\n",
              "          document.querySelector('#df-1c19506d-9df3-4ff5-95cb-2c23eb1b3b4d button.colab-df-convert');\n",
              "        buttonEl.style.display =\n",
              "          google.colab.kernel.accessAllowed ? 'block' : 'none';\n",
              "\n",
              "        async function convertToInteractive(key) {\n",
              "          const element = document.querySelector('#df-1c19506d-9df3-4ff5-95cb-2c23eb1b3b4d');\n",
              "          const dataTable =\n",
              "            await google.colab.kernel.invokeFunction('convertToInteractive',\n",
              "                                                     [key], {});\n",
              "          if (!dataTable) return;\n",
              "\n",
              "          const docLinkHtml = 'Like what you see? Visit the ' +\n",
              "            '<a target=\"_blank\" href=https://colab.research.google.com/notebooks/data_table.ipynb>data table notebook</a>'\n",
              "            + ' to learn more about interactive tables.';\n",
              "          element.innerHTML = '';\n",
              "          dataTable['output_type'] = 'display_data';\n",
              "          await google.colab.output.renderOutput(dataTable, element);\n",
              "          const docLink = document.createElement('div');\n",
              "          docLink.innerHTML = docLinkHtml;\n",
              "          element.appendChild(docLink);\n",
              "        }\n",
              "      </script>\n",
              "    </div>\n",
              "  </div>\n",
              "  "
            ]
          },
          "metadata": {},
          "execution_count": 17
        }
      ]
    },
    {
      "cell_type": "code",
      "source": [
        "df.describe( include= [\"object\"]).transpose()\n"
      ],
      "metadata": {
        "colab": {
          "base_uri": "https://localhost:8080/",
          "height": 456
        },
        "id": "DwmjfzS7T1UF",
        "outputId": "a5bf6834-2737-4cb3-dbd5-d6cdd910534f"
      },
      "execution_count": null,
      "outputs": [
        {
          "output_type": "execute_result",
          "data": {
            "text/plain": [
              "                       count  unique                 top    freq\n",
              "term                 1007954       2           36 months  742600\n",
              "grade                1007954       7                   C  291510\n",
              "sub_grade            1007954      35                  C1   64103\n",
              "emp_title             940140  318747             Teacher   14679\n",
              "home_ownership       1007954       6            MORTGAGE  493347\n",
              "verification_status  1007954       3     Source Verified  376052\n",
              "issue_d              1007954     139            Mar-2016   49821\n",
              "purpose              1007954      14  debt_consolidation  586759\n",
              "title                 992147   63146  Debt consolidation  466830\n",
              "addr_state           1007954      51                  CA  148254\n",
              "earliest_cr_line     1007925     730            Aug-2001    6884\n",
              "initial_list_status  1007954       2                   w  565228\n",
              "application_type     1007954       2          Individual  984266"
            ],
            "text/html": [
              "\n",
              "  <div id=\"df-3a68e4db-8aee-41fb-941a-e4ec3ac4f3e8\">\n",
              "    <div class=\"colab-df-container\">\n",
              "      <div>\n",
              "<style scoped>\n",
              "    .dataframe tbody tr th:only-of-type {\n",
              "        vertical-align: middle;\n",
              "    }\n",
              "\n",
              "    .dataframe tbody tr th {\n",
              "        vertical-align: top;\n",
              "    }\n",
              "\n",
              "    .dataframe thead th {\n",
              "        text-align: right;\n",
              "    }\n",
              "</style>\n",
              "<table border=\"1\" class=\"dataframe\">\n",
              "  <thead>\n",
              "    <tr style=\"text-align: right;\">\n",
              "      <th></th>\n",
              "      <th>count</th>\n",
              "      <th>unique</th>\n",
              "      <th>top</th>\n",
              "      <th>freq</th>\n",
              "    </tr>\n",
              "  </thead>\n",
              "  <tbody>\n",
              "    <tr>\n",
              "      <th>term</th>\n",
              "      <td>1007954</td>\n",
              "      <td>2</td>\n",
              "      <td>36 months</td>\n",
              "      <td>742600</td>\n",
              "    </tr>\n",
              "    <tr>\n",
              "      <th>grade</th>\n",
              "      <td>1007954</td>\n",
              "      <td>7</td>\n",
              "      <td>C</td>\n",
              "      <td>291510</td>\n",
              "    </tr>\n",
              "    <tr>\n",
              "      <th>sub_grade</th>\n",
              "      <td>1007954</td>\n",
              "      <td>35</td>\n",
              "      <td>C1</td>\n",
              "      <td>64103</td>\n",
              "    </tr>\n",
              "    <tr>\n",
              "      <th>emp_title</th>\n",
              "      <td>940140</td>\n",
              "      <td>318747</td>\n",
              "      <td>Teacher</td>\n",
              "      <td>14679</td>\n",
              "    </tr>\n",
              "    <tr>\n",
              "      <th>home_ownership</th>\n",
              "      <td>1007954</td>\n",
              "      <td>6</td>\n",
              "      <td>MORTGAGE</td>\n",
              "      <td>493347</td>\n",
              "    </tr>\n",
              "    <tr>\n",
              "      <th>verification_status</th>\n",
              "      <td>1007954</td>\n",
              "      <td>3</td>\n",
              "      <td>Source Verified</td>\n",
              "      <td>376052</td>\n",
              "    </tr>\n",
              "    <tr>\n",
              "      <th>issue_d</th>\n",
              "      <td>1007954</td>\n",
              "      <td>139</td>\n",
              "      <td>Mar-2016</td>\n",
              "      <td>49821</td>\n",
              "    </tr>\n",
              "    <tr>\n",
              "      <th>purpose</th>\n",
              "      <td>1007954</td>\n",
              "      <td>14</td>\n",
              "      <td>debt_consolidation</td>\n",
              "      <td>586759</td>\n",
              "    </tr>\n",
              "    <tr>\n",
              "      <th>title</th>\n",
              "      <td>992147</td>\n",
              "      <td>63146</td>\n",
              "      <td>Debt consolidation</td>\n",
              "      <td>466830</td>\n",
              "    </tr>\n",
              "    <tr>\n",
              "      <th>addr_state</th>\n",
              "      <td>1007954</td>\n",
              "      <td>51</td>\n",
              "      <td>CA</td>\n",
              "      <td>148254</td>\n",
              "    </tr>\n",
              "    <tr>\n",
              "      <th>earliest_cr_line</th>\n",
              "      <td>1007925</td>\n",
              "      <td>730</td>\n",
              "      <td>Aug-2001</td>\n",
              "      <td>6884</td>\n",
              "    </tr>\n",
              "    <tr>\n",
              "      <th>initial_list_status</th>\n",
              "      <td>1007954</td>\n",
              "      <td>2</td>\n",
              "      <td>w</td>\n",
              "      <td>565228</td>\n",
              "    </tr>\n",
              "    <tr>\n",
              "      <th>application_type</th>\n",
              "      <td>1007954</td>\n",
              "      <td>2</td>\n",
              "      <td>Individual</td>\n",
              "      <td>984266</td>\n",
              "    </tr>\n",
              "  </tbody>\n",
              "</table>\n",
              "</div>\n",
              "      <button class=\"colab-df-convert\" onclick=\"convertToInteractive('df-3a68e4db-8aee-41fb-941a-e4ec3ac4f3e8')\"\n",
              "              title=\"Convert this dataframe to an interactive table.\"\n",
              "              style=\"display:none;\">\n",
              "        \n",
              "  <svg xmlns=\"http://www.w3.org/2000/svg\" height=\"24px\"viewBox=\"0 0 24 24\"\n",
              "       width=\"24px\">\n",
              "    <path d=\"M0 0h24v24H0V0z\" fill=\"none\"/>\n",
              "    <path d=\"M18.56 5.44l.94 2.06.94-2.06 2.06-.94-2.06-.94-.94-2.06-.94 2.06-2.06.94zm-11 1L8.5 8.5l.94-2.06 2.06-.94-2.06-.94L8.5 2.5l-.94 2.06-2.06.94zm10 10l.94 2.06.94-2.06 2.06-.94-2.06-.94-.94-2.06-.94 2.06-2.06.94z\"/><path d=\"M17.41 7.96l-1.37-1.37c-.4-.4-.92-.59-1.43-.59-.52 0-1.04.2-1.43.59L10.3 9.45l-7.72 7.72c-.78.78-.78 2.05 0 2.83L4 21.41c.39.39.9.59 1.41.59.51 0 1.02-.2 1.41-.59l7.78-7.78 2.81-2.81c.8-.78.8-2.07 0-2.86zM5.41 20L4 18.59l7.72-7.72 1.47 1.35L5.41 20z\"/>\n",
              "  </svg>\n",
              "      </button>\n",
              "      \n",
              "  <style>\n",
              "    .colab-df-container {\n",
              "      display:flex;\n",
              "      flex-wrap:wrap;\n",
              "      gap: 12px;\n",
              "    }\n",
              "\n",
              "    .colab-df-convert {\n",
              "      background-color: #E8F0FE;\n",
              "      border: none;\n",
              "      border-radius: 50%;\n",
              "      cursor: pointer;\n",
              "      display: none;\n",
              "      fill: #1967D2;\n",
              "      height: 32px;\n",
              "      padding: 0 0 0 0;\n",
              "      width: 32px;\n",
              "    }\n",
              "\n",
              "    .colab-df-convert:hover {\n",
              "      background-color: #E2EBFA;\n",
              "      box-shadow: 0px 1px 2px rgba(60, 64, 67, 0.3), 0px 1px 3px 1px rgba(60, 64, 67, 0.15);\n",
              "      fill: #174EA6;\n",
              "    }\n",
              "\n",
              "    [theme=dark] .colab-df-convert {\n",
              "      background-color: #3B4455;\n",
              "      fill: #D2E3FC;\n",
              "    }\n",
              "\n",
              "    [theme=dark] .colab-df-convert:hover {\n",
              "      background-color: #434B5C;\n",
              "      box-shadow: 0px 1px 3px 1px rgba(0, 0, 0, 0.15);\n",
              "      filter: drop-shadow(0px 1px 2px rgba(0, 0, 0, 0.3));\n",
              "      fill: #FFFFFF;\n",
              "    }\n",
              "  </style>\n",
              "\n",
              "      <script>\n",
              "        const buttonEl =\n",
              "          document.querySelector('#df-3a68e4db-8aee-41fb-941a-e4ec3ac4f3e8 button.colab-df-convert');\n",
              "        buttonEl.style.display =\n",
              "          google.colab.kernel.accessAllowed ? 'block' : 'none';\n",
              "\n",
              "        async function convertToInteractive(key) {\n",
              "          const element = document.querySelector('#df-3a68e4db-8aee-41fb-941a-e4ec3ac4f3e8');\n",
              "          const dataTable =\n",
              "            await google.colab.kernel.invokeFunction('convertToInteractive',\n",
              "                                                     [key], {});\n",
              "          if (!dataTable) return;\n",
              "\n",
              "          const docLinkHtml = 'Like what you see? Visit the ' +\n",
              "            '<a target=\"_blank\" href=https://colab.research.google.com/notebooks/data_table.ipynb>data table notebook</a>'\n",
              "            + ' to learn more about interactive tables.';\n",
              "          element.innerHTML = '';\n",
              "          dataTable['output_type'] = 'display_data';\n",
              "          await google.colab.output.renderOutput(dataTable, element);\n",
              "          const docLink = document.createElement('div');\n",
              "          docLink.innerHTML = docLinkHtml;\n",
              "          element.appendChild(docLink);\n",
              "        }\n",
              "      </script>\n",
              "    </div>\n",
              "  </div>\n",
              "  "
            ]
          },
          "metadata": {},
          "execution_count": 18
        }
      ]
    },
    {
      "cell_type": "code",
      "source": [
        "plt.figure(figsize=(6,3),dpi=120)\n",
        "df.corr()['loan_status'].sort_values().drop('loan_status').plot(kind='bar', cmap='viridis') # correlation with loan_status for continuous features with loan_status feature dropped\n",
        "plt.xticks(rotation=90); "
      ],
      "metadata": {
        "colab": {
          "base_uri": "https://localhost:8080/",
          "height": 528
        },
        "id": "zkNdb7PLT1RN",
        "outputId": "c79908dc-0b8a-4300-a244-8cf9592e3907"
      },
      "execution_count": null,
      "outputs": [
        {
          "output_type": "display_data",
          "data": {
            "text/plain": [
              "<Figure size 720x360 with 1 Axes>"
            ],
            "image/png": "[encoded data removed]"
          },
          "metadata": {}
        }
      ]
    },
    {
      "cell_type": "markdown",
      "source": [
        "\n",
        "\n",
        "In the Graph [0,0],\n",
        "\n",
        "The no. of payments of loan is 36 months for most of the customers and the rest have 60 months. \n",
        "\n",
        "In 36 months, 24% of the customers are defaulting the loan, whereas in 60 months 45% of the customers are defaulting the loans. \n",
        "\n",
        "---\n",
        "In Graph [0,1],\n",
        "\n",
        "It is seen that as the Grade increases the Defaulters Rate also increases,\n",
        "there is a linear relationship between grade and defaulters rate.\n",
        "\n",
        "![grade.png](data:image/png;base64,iVBORw0KGgoAAAANSUhEUgAAAXgAAAD7CAYAAABgzo9kAAAABHNCSVQICAgIfAhkiAAAAAlwSFlzAAALEgAACxIB0t1+/AAAADh0RVh0U29mdHdhcmUAbWF0cGxvdGxpYiB2ZXJzaW9uMy4yLjIsIGh0dHA6Ly9tYXRwbG90bGliLm9yZy+WH4yJAAAgAElEQVR4nO3de3xU9Z3/8VcyuRDIBTJMQiBAIJAwXBICiHQFRFGCGIiKGoyXrbbYVle61hvuowVc7aNLa92tVh7dtoqyLOoPo1IDioJFixYQDHIZkkhISMCQhAm532fO7w/UlSrmwoQzM3k//8L2TOb9Mcnbw3fO+Z4AwzAMRETE7wSaHUBERHqHCl5ExE+p4EVE/JQKXkTET6ngRUT8lApeRMRPqeBFRPxUkNkBvu7MmUbc7u5flm+1huN0NvRCootPs3gff5kDNIu36uksgYEBDBo04Lz/v1cVvNtt9Kjgv3ytv9As3sdf5gDN4q16YxYt0YiI+CkVvIiIn1LBi4j4KRW8iIifUsGLiPgpFbyIiJ/qUsEXFxeTlZVFeno6WVlZlJSUfOtxW7ZsYeHChWRkZLBw4UJOnz7tyawiIn6jqqaZDdsK+dnvd3L4mLNX3qNL18GvXLmS7OxsMjMz2bRpEytWrGDdunXnHHPw4EF+//vf8+KLL2Kz2aivryckJKRXQouI+Kqik7Vs/biMfQWVBAYEMN0ew6ihkTTWt3j8vToteKfTicPhYO3atQBkZGTw+OOPU11dTXR09FfHvfDCC9x1113YbDYAIiIiPB5WRMQXud0GeZ9VsXVPGUdP1hIWGsT86SOYOzWe6Mh+9O8XbE7Bl5eXExsbi8ViAcBisRATE0N5efk5BV9UVER8fDy33norTU1NXH311fzkJz8hICDA46FFRHxBa5uLnQfLeffjMiprmhkc1Y9b5o5lZkocYaG9v5GAx97B5XJRUFDA2rVraWtr44c//CFDhw7luuuu6/LXsFrDe/z+Npv//I1Bs3gff5kDNMvF4KxtZvOHxbz1UQkNze0kjxzEXYsmMmPiECyWb//oszdm6bTg4+LiqKiowOVyYbFYcLlcVFZWEhcXd85xQ4cOZf78+YSEhBASEsLcuXM5cOBAtwre6Wzo0X4MNlsEVVX13X6dN9Is3sdf5gDN0tvKKht4Z08puxwVuN0GU5JspE8fwZj4KACqqxu/9XU9nSUwMOA7T4w7LXir1Yrdbic3N5fMzExyc3Ox2+3nLM/A2bX5999/n8zMTDo6Oti1axfp6endDiwi4ksMw+BQcTVb95TiKDlDSHAgcyYP4+pL4okZ1N/UbF1aolm1ahXLly9nzZo1REZGsnr1agCWLl3KsmXLmDRpEtdeey2HDh1iwYIFBAYGMnPmTG688cZeDS8iYpb2Dje7Dp/inY/LOHm6kajwEBZfPprLJw8jPCzY7HgABBiG4TX7bWqJRrN4I3+ZAzSLJzQ0t/PXT06w/ZOT1DW2EW8LJ336cC4dH0vQedbXO2PaEo2IiMCp6ibe+biMjw6W09bhZuLoaNKnj2D8yEFee7WgCl5E5DwMw6CwrIate8r49OhpLJYAZkwYQvolwxlm6/lVfxeLCl5E5B+43G725lexdU8pJafqCQ8L5tp/SmDulGFEhYeaHa/LVPAiIl9obu3gg08/Z9veMpx1rcQOCuP2eUn806Q4QoMtZsfrNhW8iPR5ztoW3t1bxgeffk5Lm4uk4QPJvjqJ1DGDCfTS9fWuUMGLSJ9VXF7H1j2l7M2vAmDauLM3Jo2KizQ5mWeo4EWkT3EbBp8ePc3WPWUUltXQL8TCVdPiuWpaPIOjwsyO51EqeBHpE1rbXXx06OyNSRXVTURHhnLzFWOYnTqU/v38swr9cyoRkS/UNrbx3r4T/DXvJA3N7SQMieBHiyYwNdnW4xuTfIUKXkT80smqBrZ+XMauw6dwuQxSxwwmffpwkoYP9NobkzxNBS8ifsMwDBzHz7B1TymHjlUTHBTIzJShzLtkOEOizd34ywwqeBHxeR0uN7sdFbzzcRlllQ1E9g/mulmjuCJtGBH9++6jQ1XwIuKzGlva2ZF3ku37TlDT0MbQwQO485pxzJgQS3CQ792Y5GkqeBHxOaeqm3jtb8W8s+c4be1uxicM4s4FdiaOiu4z6+tdoYIXEa9nGAYnTzeyr6CKfQWVnKhqJMgSwHR7LPMuGc6IWO98dJ/ZVPAi4pUMw6DkVP3ZUi+soqK6iQBgTHwUS+aOZf5lo3C3dZgd06up4EXEa7gNg6MnavmksIp9BVU461oIDAggecRA5k2LJy3JxsAvdnO0RoX5zcNLeosKXkRM5XK7KSitYV9BFZ8UVlHb2EaQJYDxCdEsmplA2lib1zwCz9eo4EXkomvvcOMoqWZfQRV5n1XR2NJBSFAgkxKtTE2ykTpmMGGhqqcLpX+DInJRtLa7OHTMyb6CKj4tOk1zq4uwUAupiYOZmmxj4mirT+657s1U8CLSa5pbO/j06Gn2FVRx8JiTtg434WHBTE2OYVqyDfvIaIKD/Hs/GDOp4EXEoxqa28krPHvli6Okmg6XQdSAEC5LiWNqko3kEQOxBKrULwYVvIhcsNqGVj4prGJvQRUFpTW4DQNrZD+unBLP1GQbicOifPrJSL5KBS8iPXK6tplPvrhG/eiJWgwgNro/18wYwdRkGyNjI3RXqclU8CLSZRXVTewtqGRfQRUlp85egx5vC2fRzFFMTbYxbPAAlboXUcGLyHkZhsHJqsazpV5YxcmqRgBGxUVw45xEpibZiO2D2/D6ChW8iJzjyy0C9hZU8klBFRVnmgkAxsZHccvcsUxJsmGN6md2TOkCFbyI4HYbHD1Z+8XdpJU461oJDAjAPnIg86aPYMrYwUR9sUWA+A4VvEgf1eFyU1B2douAvK9tETAhIZrMmaOZPHawtgjwcSp4kT6kvcPF/qOn+eTrWwQEB5Iy2srU5BhSEq3aIsCPdOk7WVxczPLly6mpqWHgwIGsXr2ahISEc4555pln2LBhAzExMQBMmTKFlStXejywiHRfh8vNXz4sYfu+EzS3dpzdImDMYKYmxTBxdLS2CPBTXSr4lStXkp2dTWZmJps2bWLFihWsW7fuG8ddd911PPLIIx4PKSI9d6KqgT+/6aC0soHLUodySZIN+8hB2iKgD+j0O+x0OnE4HGRkZACQkZGBw+Ggurq618OJSM+53QZv7y7l31/4mDMNrfzLDZNYfsclpCRaVe59RKdn8OXl5cTGxmKxnP0rnMViISYmhvLycqKjo885dvPmzezcuRObzcZ9991HWlpa76QWke90uqaZP28+QmFZDWljB/PP88cROSDE7FhykXns05QlS5bw4x//mODgYD788EPuuecetmzZwqBBg7r8NazW8B6/v83mP89k1Czex1fmMAyDbXtK+dOmg0AAP81KY+4lw8+5u9RXZukKzfLdOi34uLg4KioqcLlcWCwWXC4XlZWVxMXF/UM421d/vuyyy4iLi+Ozzz5j+vTpXQ7jdDbgdhvdiP/le0f4zaO7NIv38ZU5ahvbePGtfPYfPU3y8IH84Fo7gweGcfp0w1fH+MosXaFZIDAw4DtPjDtdiLNardjtdnJzcwHIzc3Fbrd/Y3mmoqLiqz8fOXKEkydPMmrUqG4HFpHu21dQyS/+vJtDxdUsuXIMD2WnMXhgmNmxxGRdWqJZtWoVy5cvZ82aNURGRrJ69WoAli5dyrJly5g0aRJPPfUUhw8fJjAwkODgYH7961+fc1YvIp7X1NLB/75byN8Pn2JkbAQ/XDieYYMHmB1LvESAYRjdXxPpJVqi0SzeyFvncJRU8/yWI9TUt3Ht90ay8LIEgizf/Zdyb52lJzRL50s0umVNxMe0tbt49f0itu09QWx0fx69fQqJQ6PMjiVeSAUv4kOKy+v4c66DcmcTc6fEc+MViboLVc5LBS/iAzpcbnI/KiH3o+NEhYfwQNZkJoyK7vyF0qep4EW8XLmzkT+96aDkVD3fmxBL9tVJDOinXR6lcyp4ES/lNgy27z3Bq+8XERps4Z7rJjJtXIzZscSHqOBFvJCztoXntxzhyPEzpCRa+f414xioB25IN6ngRbyIYRh8dOgUG7YV4nbDP89PZnbqUD3IWnpEBS/iJeqa2lj3dgGfFFYxNj6KH2SMJ0Z3o8oFUMGLeIG8z6p48a18mlo7uOmKRNIvGUFgoM7a5cKo4EVM1NzawUvbP2PngXKGx4Tz4JI04mN6vquqyNep4EVMUlB6huc2H8FZ18K13xvJostG6UEc4lEqeJGLrL3DxWsfHOOdPWXYBoax/NYpjI0faHYs8UMqeJGL6Pipev6U6+Dz043MSRvGzVck0i9Ev4bSO/STJXIRuNxutuwq5S87iwnvH8y/3pRKSqLV7Fji51TwIr3sVHUTf851cOzzOqbbY7htXjLhYdpqQHqfCl6klxiGwXufnGTjX48SZAnkR4smcOn4WLNjSR+ighfpBdV1LazdcoTDJWeYMCqauxbYGRShrQbk4lLBi3iQYRjsdlSw/p1COtxubp+XxJy0YdpqQEyhghfxkIbmdv5nawEf51eSODSSH2aMJza6v9mxpA9TwYt4wIGi06zdkk9DczuLLx/N/EtHYAnUTUtiLhW8yAVoaevglfeO8v7+zxk2eAD335zKiNgIs2OJACp4kR777EQNf851cLqmhfnTR3D97FEEB+n5qOI9VPAi3dTe4eaNncd4e1cp1qh+PJydRvKIQWbHEvkGFbxIN5RVNvCnNx2cqGpgdmocWVeOJSxUv0binfSTKdIFbrfB23tKef2DYwwIC2bZjSlMHjPY7Fgi30kFL9KJ8tON/HrDJxw9UcvUJBu3z08msn+I2bFEOqWCFzkPt2GwI+8kr+4oIiAggKUZ45kxIVY3LYnPUMGLfIuKM02s3ZJPYVkNk5Ns3HbVWKIj+5kdS6RbVPAiX+N2G7y7t4zXPziGxRLIndeM4/q5SZw+3WB2NJFuU8GLfOHz042s3XKEos/rSE20csf8cQyKCNWSjPgsFbz0eS63m7d3l7JpZzGhwRaWLhzPjPFaaxff16XNMoqLi8nKyiI9PZ2srCxKSkrOe+yxY8dITU1l9erVnsoo0mtKK+p54sV95Lx/jMljBvPE0hl8b8IQlbv4hS6dwa9cuZLs7GwyMzPZtGkTK1asYN26dd84zuVysXLlSq666iqPBxXxpA6Xm9yPStj89+MM6BfEPddNZNq4GLNjiXhUpwXvdDpxOBysXbsWgIyMDB5//HGqq6uJjo4+59g//vGPzJkzh6amJpqamnonscgFKi6vY+2WI5yoamTGhFhumTuWCF3XLn6o0yWa8vJyYmNjsVjObqJksViIiYmhvLz8nOPy8/PZuXMn3//+93slqMiFau9wsXHHUZ5Yt5eG5naWLU7h7oUTVO7itzzyIWt7ezu/+MUv+NWvfvXVfwh6wmoN7/FrbTb/2aJVs3jekeJqfvdKHierGrh6+gjuWjSxWw++9pY5PEGzeKfemKXTgo+Li6OiogKXy4XFYsHlclFZWUlcXNxXx1RVVVFaWsrdd98NQF1dHYZh0NDQwOOPP97lME5nA2630e0hbLYIqqrqu/06b6RZPKu13cVr7x9j294yoiND+VlWKhNHWWluaKG5oaVLX8Mb5vAUzeKdejpLYGDAd54Yd1rwVqsVu91Obm4umZmZ5ObmYrfbz1l/Hzp0KLt37/7qn5955hmampp45JFHuh1YxFPyj5/hhbfyqaxp5oopw7jx8kTt/Ch9Spcuk1y1ahXr168nPT2d9evX89hjjwGwdOlSDh482KsBRbqrubWD/9lawK9fysPA4OFb0rh9XrLKXfqcAMMwur8m0ku0RKNZLtShYicvvpVPdV0rV18ynOtnjSY05MKesqTviXfSLB5YohHxBU0t7bz83lF2HignztqfR2+fyphhUWbHEjGVCl583v7PTrNuaz51je0smDGSzJkJejaqCCp48WENze1seLeQXY4K4m0DuG9xCqPiIs2OJeI1VPDik/bmV7L+nQIaWzpYdFkCGf+UQJClS9cMiPQZKnjxKbWNbax/p4B9BVWMjI3ggSV2hsf0/AY5EX+mghefYBgGuxwVbHi3kNZ2F4svH838S0dgCdRZu8j5qODF652pb2Xd2/l8WuQkcWgkdy6wM3TwALNjiXg9Fbx4LcMw2HmgnJffO4rL5WbJlWO4atpwAgO1V7tIV6jgxSudrm3mxbfyOVxyhqThA7lzwThiB/U3O5aIT1HBi1dxGwY78k6ycUcRGHDbvCTmpA0jUE9YEuk2Fbx4jYozTbywJZ+CshomJAzin+ePY/DAMLNjifgsFbyYzu022La3jNc+OIbFEsid14xjZkqcnosqcoFU8GKqcmcjz285QtHJOlITrdwxfxyDIkLNjiXiF1TwYgqX283bu0vZtLOE0OBAli4cz4zxsTprF/EgFbxcdCcqG3huyxGOn6pnarKN2+YlEzVAz0UV8TQVvFw0HS43m/9+nNyPSujfL4h7rpvItHExZscS8VsqeLkoSk7V8fzmfE5UNTBjQiy3zB1LRH+dtYv0JhW89Kr2Dhd/+bCEt3aVEjEgmPsWTyJtrM3sWCJ9ggpeek1+STVPbdhHubOJmSlxLLlyDP37BZsdS6TPUMGLx7ndBq++X8TWPaVER4Tys6xUJo6ymh1LpM9RwYtHudxunss9wi5HBekzRrLoeyMJC9WPmYgZtJm2eEyHy80fNh1ml6OCxZeP5l9umqxyFzGRfvvEI9o7XKx5/RCfFjlZMncs8y4ZbnYkkT5PBS8XrLXdxe9zDnC45Ay3pydzRdowsyOJCCp4uUDNrR08/eoBCk/UcNcCOzNT4syOJCJfUMFLjzW1dPCfG/dT/Hk9dy+cwKXjY82OJCJfo4KXHmlobue3r+znRGUDP7luIlOTdfOSiLdRwUu31TW28eTLeZyqbua+xZNISRxsdiQR+RYqeOmWM/WtPPlyHs7aFn56UwoTEqLNjiQi56GCly5z1rbwm5fyqG1q4/6bU0keMcjsSCLyHVTw0iWVNc38ZkMeTa0dPJg1mcRhUWZHEpFOdKngi4uLWb58OTU1NQwcOJDVq1eTkJBwzjE5OTm88MILBAYG4na7uemmm7jjjjt6I7NcZOXORp58eT9t7S4eviWNkUMizI4kIl3QpYJfuXIl2dnZZGZmsmnTJlasWMG6devOOSY9PZ0bbriBgIAAGhoaWLhwIdOnT2fcuHG9ElwujhNVDTz58n4wDB7JnkJ8TLjZkUSkizrdi8bpdOJwOMjIyAAgIyMDh8NBdXX1OceFh4d/9TzNlpYW2tvb9XxNH3f8VD2/3pBHYAA8cqvKXcTXdHoGX15eTmxsLBaLBQCLxUJMTAzl5eVER597BcX27dt56qmnKC0t5YEHHiA5OblbYazWnheIzeY/ywbeMEvB8WqefGU//fsF8csfX0bc4AE9+jreMIsn+MscoFm8VW/M4tEPWefOncvcuXP5/PPPuffee5k9ezajR4/u8uudzgbcbqPb72uzRVBVVd/t13kjb5ilsKyG/9r4KZH9Q3hwyWSCDHePMnnDLJ7gL3OAZvFWPZ0lMDDgO0+MO12iiYuLo6KiApfLBYDL5aKyspK4uPPvOTJ06FAmTZrEjh07uh1YzOUoqeap/7efQRGhPHLrFAZHhZkdSUR6qNOCt1qt2O12cnNzAcjNzcVut39jeaaoqOirP1dXV7N7926SkpI8HFd604EiJ/+18QC2gWE8nD2FQRGhZkcSkQvQpSWaVatWsXz5ctasWUNkZCSrV68GYOnSpSxbtoxJkybxyiuv8OGHHxIUFIRhGNx2223MnDmzV8OL5+QVVrHmjUMMsw3ggazJRPQPMTuSiFygAMMwur/o3Uu0Bm/OLHuOVPCnNx2MHBLBz25O9diDsf3l++Ivc4Bm8Va9tQavO1n7uA8PlvP8liOMHRbFT29K1SP2RPyIfpv7sB37T/I/bxdgTxjEfTekEBpiMTuSiHiQCr6P2ra3jA3bPiMl0cq9108kOEjlLuJvVPB90Fu7jrNxRxFTkmz8OHMCQZZOL6YSER+kgu9DDMPgzQ9LeGNnMdPtMfwwY7zKXcSPqeD7CMMweO2DY2z++3EumzSEO6+xExiovYJE/JkKvg8wDIOXtx/l3b1lzJk8lNvSkwnURnAifk8F7+fchsH6dwrZkXeSq6bFc8vcsdrlU6SPUMH7MbfbYO1bR/jw4CkWzBjJ4stHq9xF+hAVvJ/qcLl5bvMRdjsquG7mKBZelqByF+ljVPB+qMPl5g+bDvNJYRU3zUnkmhkjzY4kIiZQwfuZ9g4Xz75+iANFTm65aixXTxtudiQRMYkK3o+0trl45rUDHCk5wx3zk5kzeZjZkUTERCp4P9Hc2sHvXj3AZydquOtaO5dNOv8DWUSkb1DB+4Gmlnb+8/99SnF5PT9aNIHp9lizI4mIF1DB+7iG5nZ++/J+TlQ18JPrJjI12WZ2JBHxEip4H1bb2MZvX87jVHUz9y2eREriYLMjiYgXUcH7qDP1rTz5ch7Ouhb+9aYUxidEd/4iEelTVPA+6HRtM0++tJ+6pjZ+dvNkkoYPNDuSiHghFbyPqTzTxG9eyqO51cUDSyaTODTK7Egi4qVU8D6k3NnIb17Ko8Nl8NAtaYwcEmF2JBHxYip4H3GiqoEnX8oD4OHsNOJt53+SuogIqOB9wvFT9fz2lf0EWQJ46JY04qwDzI4kIj5ABe/lij6v5alXPqV/qIWHbkkjZlB/syOJiI9QwXuxwrIa/nPjp0T1D+GhW9KwRvUzO5KI+BAVvJdylFTzdM4BrJH9eHBJGoMiQs2OJCI+RgXvhQ4Uneb3rx1iSHQYDy5JI3JAiNmRRMQHqeC9zN8Pfs4zOQeJjwnngazJhIcFmx1JRHyUCt6L7Dp8ij9vPsKouAjuvymV/v1U7iLScyp4L+A2DF7/4Bib/36ciYlWfrJoAmGh+taIyIXpUosUFxezfPlyampqGDhwIKtXryYhIeGcY5599lm2bNlCYGAgwcHB3H///cyaNas3MvuVppYO/vTmYT4tcjI7dSj/mj2VmjONZscSET/QpYJfuXIl2dnZZGZmsmnTJlasWMG6devOOSYlJYW77rqLsLAw8vPzue2229i5cyf9+unSvvM5Vd3EMzkHqDzTzO3zkpiTNozgoECzY4mIn+i0TZxOJw6Hg4yMDAAyMjJwOBxUV1efc9ysWbMICwsDIDk5GcMwqKmp6YXI/uFAkZPHX9xLfVM7Dy6ZzBVT4gkICDA7loj4kU7P4MvLy4mNjcVisQBgsViIiYmhvLyc6Ohv34P8jTfeYMSIEQwZMsSzaf2AYRi8vbuUV3cUMTwmnH9ZPInBUWFmxxIRP+TxT/L27NnD7373O55//vluv9Zq7fkGWjab9++s2Nru4plX9vN+3glmpg7lp1lp9PuWD1N9YZau8pdZ/GUO0Czeqjdm6bTg4+LiqKiowOVyYbFYcLlcVFZWEhcX941j8/LyeOihh1izZg2jR4/udhinswG32+j262y2CKqq6rv9uoupuq6FZ3IOUlpRz+LLR7Ngxkjq65r5x9S+MEtX+css/jIHaBZv1dNZAgMDvvPEuNM1eKvVit1uJzc3F4Dc3Fzsdvs3lmcOHDjA/fffz9NPP82ECRO6HdSfFZbV8O8vfEzFmSbuuzGFa7+XoPV2Eel1XbpkY9WqVaxfv5709HTWr1/PY489BsDSpUs5ePAgAI899hgtLS2sWLGCzMxMMjMzKSgo6L3kPmLH/pP85qU8wkKD+Pkd05g8Rg/GFpGLI8AwjO6vifQSf1qi6XC5eWnbZ/w17yQTR0fz40UTunRnqjfO0lP+Mou/zAGaxVv11hKNbpfsBXWNbax54xCFZTVcc+kIFl+eSGCglmRE5OJSwXvY8VP1/P61A9Q1tXP3ovHMGK9LRUXEHCp4D9pzpILnNx9hQFgwj942hYQhkWZHEpE+TAXvAW63wet/O7tZ2Nj4KO65fhJR2sNdREymgr9ATS0d/PHNwxwocnL55KHcenUSQRbtJyMi5lPBX4ByZyPP5BykqqaZ29OTuSJtmNmRRES+ooLvoQNFTv77L4exBAbw4JLJJI8YZHYkEZFzqOC7SZuFiYivUMF3Q2u7ixfeyme3o4Lp9hjuXGAnNNhidiwRkW+lgu8iZ20Lz7x2gLKKhq82C9N+MiLizVTwXVBYVsOzrx+kw+Vm2Y0ppGo/GRHxASr4TuzIO8n/vlvI4IFhLFs8iTjrALMjiYh0iQr+PDpcbjZs+4wdeSeZNNrKjxaN79JmYSIi3kIF/y3qGttY8/pBCk/Ucs2MESyerc3CRMT3qOD/wfFT9Tzz2gEatFmYiPg4FfzX7HZUsHbLEcL7B/PobVMZOcR/nvcoIn2PCp6zm4W99sExtuw6u1nYvddPIlKbhYmIj+vzBf/1zcLmTB5KtjYLExE/0acLXpuFiYg/67MFf6DoNP/9l8MEWQK1WZiI+KU+V/CGYfDW7lJydhQxPDac+25IwRrVz+xYIiIe16cKvrXdxdotR9hzpFKbhYmI3+szBf/1zcJunJPINZeO0GZhIuLX+kTBF5SeYc0bh+hwufnpTSmkJGqzMBHxf35f8H/NO8kGbRYmIn2Q3xZ8h8vNhncL2bH/c1ISrdy9UJuFiUjf4pcFX/vFZmGfnajl2u+N5PpZo7VZmIj0OX5X8F/fLOxHiyZw6fhYsyOJiJjCrwp+l+MUa7fkE6HNwkRE/KPgXW6DjTuO8tauUpLio7hHm4WJiPh+wTe3dvD4c7vYl1/JnLRhZF81VpuFiYgAXWrC4uJisrKySE9PJysri5KSkm8cs3PnTm644QYmTpzI6tWrPZ3zvPKPn2F/YRW3pydzR3qyyl1E5AtdasOVK1eSnZ3N1q1byc7OZsWKFd84Zvjw4fzyl7/kBz/4gcdDfpfJYwfz0hMLtBOkiMg/6LTgnU4nDoeDjIwMADIyMnA4HFRXV59z3MiRI7Hb7QQFXdxVn4CAAMJCfX6lSUTE4zptxvLycmJjY7FYzm7KZbFYiImJoby8nLvTMMoAAAUHSURBVOjoaI+GsVrDe/xam81/rpjRLN7HX+YAzeKtemMWrzr1dTobcLuNbr/OZougqqq+FxJdfJrF+/jLHKBZvFVPZwkMDPjOE+NOl2ji4uKoqKjA5XIB4HK5qKysJC4urtthRETk4um04K1WK3a7ndzcXAByc3Ox2+0eX54RERHP6tJVNKtWrWL9+vWkp6ezfv16HnvsMQCWLl3KwYMHAdi7dy+zZ89m7dq1vPzyy8yePZu//e1vvZdcRES+U4BhGN1f9O4lWoPXLN7IX+YAzeKtemsN3qs+ZL2QHR/9abdIzeJ9/GUO0CzeqiezdPYarzqDFxERz9F9/SIifkoFLyLip1TwIiJ+SgUvIuKnVPAiIn5KBS8i4qdU8CIifkoFLyLip1TwIiJ+yqu2KuiJ2tpaZs2axc0338zPf/5zs+P0yJVXXklISAihoaG0trYybdo0Vq5cSXBwsNnReqS9vZ01a9awZcsWQkJCsFgszJgxgwceeMBnZvryexISEkJzczNjxoxh6dKlTJkyxexoPfL1n7EvPfvss8THx5uYqmf+cZZLL72Uf/u3fzM5Vfe1t7fzhz/8gdzcXIKCgrBYLCQkJLBs2TLGjBnjkffw+YLPzc0lNTWVzZs38/DDDxMSEmJ2pB55+umnSUpKwuVyceutt/Luu++yYMECs2P1yKOPPkprays5OTmEh4fT0dFBTk4ObW1tPlPw8H/fE4B33nmHu+++m+eee47U1FSTk/XM1+fxdf4wy6OPPkpLSwsbN24kMjISwzB4//33KS4u9ljB+/wSTU5ODvfccw/Jycls377d7DgXrLW1ldbWViIjI82O0iMlJSVs27aNJ554gvDws7vcBQUFkZWVxYABA0xO13Pz5s1jyZIlPPfcc2ZHET/w5e/JL3/5y69+1wMCApgzZw5XX321x97Hp8/g8/PzqampYcaMGVRVVZGTk8M111xjdqweWbZsGaGhoZSWljJz5kxmzpxpdqQecTgcjBw5kqioKLOjeFxqairvvfee2TF67MufMTj7bOXXXnvN5EQ99/VZHnzwQWbNmmVyou65WL8nPl3wr776KpmZmQQEBDBv3jyeeOIJKioqiI2NNTtat335V87W1lbuu+8+XnjhBb7//e+bHUu+xtc3XvWHZY0v+dMsAEePHuWBBx6gpaWFWbNmeezzRJ9domlrayM3N5ecnByuvPJKFixYQHt7u0+flQCEhoYyZ84cPvroI7Oj9Mj48eM5fvw4tbW1ZkfxuIMHDzJ27FizY4gf+PL3pK6uDoAxY8awadMmbr/9dhoaGjz2Pj5b8Nu3b2fUqFF88MEHvPfee7z33ns8//zzvP7662ZHuyBut5uPP/6YhIQEs6P0SEJCAldeeSUrVqz46gfV5XKxceNGGhsbTU7Xc9u2beOll17irrvuMjuK+IGEhATmzp3Lz3/+c+rr/+9JTk1NTR59H59dosnJyWHhwoXn/G9paWm43W727NnD9OnTTUrWM1+uKba3tzN27FjuvfdesyP12H/8x3/w7LPPsnjxYoKDg3G73Vx++eU+d4XTsmXLvrpMMjExkT/+8Y8+ewUNnLtuDfDEE08wadIkExP1bb/61a9Ys2YNN954I0FBQURGRhITE8Pdd9/tsffQE51ERPyUzy7RiIjId1PBi4j4KRW8iIifUsGLiPgpFbyIiJ9SwYuI+CkVvIiIn1LBi4j4qf8PMFgZNHWE5r0AAAAASUVORK5CYII=)\n",
        "\n",
        "---\n",
        "\n",
        "\n",
        "\n",
        "\n",
        "\n",
        "\n",
        "\n"
      ],
      "metadata": {
        "id": "jP3i-BNOSTWN"
      }
    },
    {
      "cell_type": "markdown",
      "source": [
        "In Graph [0,1],\n",
        "\n",
        "The initial listing Status consists of two types \n",
        "\n",
        "1.   Fractional denoted by f\n",
        "2.   Whole denoted by w\n",
        "\n",
        "The defaulters Rate is 0.32 for the the customer who were given the whole Loan amount, and the defaulters rate is 0.27 for the customers who where given loan amounts in Fractions(Installments)\n",
        ".\n"
      ],
      "metadata": {
        "id": "rtaEOqF9a4Fa"
      }
    },
    {
      "cell_type": "code",
      "source": [
        "len(df[df['annual_inc'] > 250000])"
      ],
      "metadata": {
        "colab": {
          "base_uri": "https://localhost:8080/"
        },
        "id": "XFMWDwxiUEyN",
        "outputId": "9068074c-0597-4da1-ac97-28e86f99277f"
      },
      "execution_count": null,
      "outputs": [
        {
          "output_type": "execute_result",
          "data": {
            "text/plain": [
              "9612"
            ]
          },
          "metadata": {},
          "execution_count": 20
        }
      ]
    },
    {
      "cell_type": "code",
      "source": [
        "percent_of_rows_of_customers_with_annual_inc_more_than_250000 = 9612*100/len(df) "
      ],
      "metadata": {
        "id": "9rqwZDqSUOtg"
      },
      "execution_count": null,
      "outputs": []
    },
    {
      "cell_type": "code",
      "source": [
        "percent_of_rows_of_customers_with_annual_inc_more_than_250000"
      ],
      "metadata": {
        "colab": {
          "base_uri": "https://localhost:8080/"
        },
        "id": "bvn1338CUOqv",
        "outputId": "68c9e675-a0bb-4509-d571-b44fbbd419d0"
      },
      "execution_count": null,
      "outputs": [
        {
          "output_type": "execute_result",
          "data": {
            "text/plain": [
              "0.9535837267742541"
            ]
          },
          "metadata": {},
          "execution_count": 22
        }
      ]
    },
    {
      "cell_type": "code",
      "source": [
        "df = df[df['annual_inc'] <= 250000]"
      ],
      "metadata": {
        "id": "YuiH9U-LUOof"
      },
      "execution_count": null,
      "outputs": []
    },
    {
      "cell_type": "code",
      "source": [
        "df = df[df['total_acc'] < 64]"
      ],
      "metadata": {
        "id": "Ds2o2nIsZXM6"
      },
      "execution_count": null,
      "outputs": []
    },
    {
      "cell_type": "code",
      "source": [
        "df = df[df['mort_acc'] < 11]"
      ],
      "metadata": {
        "id": "eMZ7R7JcZgTp"
      },
      "execution_count": null,
      "outputs": []
    },
    {
      "cell_type": "code",
      "source": [
        "df = df.drop(['title','emp_title'],axis =1)"
      ],
      "metadata": {
        "id": "gkvRIpaabLmo"
      },
      "execution_count": null,
      "outputs": []
    },
    {
      "cell_type": "code",
      "source": [
        "df['earliest_cr_line'] = df['earliest_cr_line'].apply(lambda date: int(date[-4:]))"
      ],
      "metadata": {
        "id": "lzyRWF05VRTU"
      },
      "execution_count": null,
      "outputs": []
    },
    {
      "cell_type": "code",
      "source": [
        "df['revol_util'] = np.where(df['revol_util'].isnull(),df['revol_util'].median(),df['revol_util'])\n"
      ],
      "metadata": {
        "id": "n_mUZ1hmvDF9"
      },
      "execution_count": null,
      "outputs": []
    },
    {
      "cell_type": "code",
      "source": [
        "df['emp_length'] = np.where(df['emp_length'].isna(),0.0,df['emp_length'])"
      ],
      "metadata": {
        "id": "Q_iw_P4sm2qz"
      },
      "execution_count": null,
      "outputs": []
    },
    {
      "cell_type": "code",
      "source": [
        "df['fico'] = (df['fico_range_high'] + df['fico_range_low'])/2\n",
        "df = df.drop(['fico_range_high','fico_range_low'],axis = 1)"
      ],
      "metadata": {
        "id": "X0w4ITmCpnjE"
      },
      "execution_count": null,
      "outputs": []
    },
    {
      "cell_type": "code",
      "source": [
        "df = df.dropna().reset_index()"
      ],
      "metadata": {
        "id": "4V2lKAkAoc5n"
      },
      "execution_count": null,
      "outputs": []
    },
    {
      "cell_type": "code",
      "source": [
        "df['loan_status'].value_counts(normalize = True)"
      ],
      "metadata": {
        "colab": {
          "base_uri": "https://localhost:8080/"
        },
        "id": "Vgj5LC6BysR_",
        "outputId": "76314369-e49a-4101-a88c-ba1fbc3e9d2e"
      },
      "execution_count": null,
      "outputs": [
        {
          "output_type": "execute_result",
          "data": {
            "text/plain": [
              "0    0.690369\n",
              "1    0.309631\n",
              "Name: loan_status, dtype: float64"
            ]
          },
          "metadata": {},
          "execution_count": 32
        }
      ]
    },
    {
      "cell_type": "code",
      "source": [
        "df_copy = df.copy()"
      ],
      "metadata": {
        "id": "iS4ARxY08RLk"
      },
      "execution_count": null,
      "outputs": []
    },
    {
      "cell_type": "code",
      "source": [
        "target_col = pd.DataFrame(df['loan_status'])"
      ],
      "metadata": {
        "id": "_w189vsNoc2y"
      },
      "execution_count": null,
      "outputs": []
    },
    {
      "cell_type": "code",
      "source": [
        "df = df.drop(['index','loan_status'],axis =1)"
      ],
      "metadata": {
        "id": "HRWuv5BVoc0l"
      },
      "execution_count": null,
      "outputs": []
    },
    {
      "cell_type": "code",
      "source": [
        "num_col = df.select_dtypes(exclude = 'object')"
      ],
      "metadata": {
        "id": "L921YCLOqJn1"
      },
      "execution_count": null,
      "outputs": []
    },
    {
      "cell_type": "code",
      "source": [
        "num_col = num_col.drop(['pub_rec_bankruptcies','open_acc','installment'],axis =1)"
      ],
      "metadata": {
        "id": "PzQttadQGtwh"
      },
      "execution_count": null,
      "outputs": []
    },
    {
      "cell_type": "code",
      "source": [
        "num_col.head()"
      ],
      "metadata": {
        "colab": {
          "base_uri": "https://localhost:8080/",
          "height": 206
        },
        "id": "3M9AR1O0pd05",
        "outputId": "44ef6dcf-205b-46a9-a128-350d6efa2c3c"
      },
      "execution_count": null,
      "outputs": [
        {
          "output_type": "execute_result",
          "data": {
            "text/plain": [
              "   loan_amnt  int_rate  emp_length  annual_inc    dti  earliest_cr_line  \\\n",
              "0    18000.0     19.48         7.0    150000.0   9.39              2005   \n",
              "1     4225.0     14.85         5.0     35000.0  15.22              2011   \n",
              "2    16000.0     12.88        10.0     65000.0  18.96              1985   \n",
              "3    24250.0     24.24         4.0     75000.0  20.84              2007   \n",
              "4    10000.0     17.97         2.0     55000.0  35.70              2001   \n",
              "\n",
              "   pub_rec  revol_bal  revol_util  total_acc  mort_acc   fico  \n",
              "0      1.0    14052.0        40.7       27.0       2.0  667.0  \n",
              "1      0.0     1058.0        24.6        6.0       0.0  727.0  \n",
              "2      1.0     5157.0        54.3       20.0       0.0  677.0  \n",
              "3      0.0    24799.0        65.3       21.0       2.0  662.0  \n",
              "4      0.0    38623.0        78.0       28.0       6.0  687.0  "
            ],
            "text/html": [
              "\n",
              "  <div id=\"df-927fba80-b2f6-42d4-a3f4-cfe08abea012\">\n",
              "    <div class=\"colab-df-container\">\n",
              "      <div>\n",
              "<style scoped>\n",
              "    .dataframe tbody tr th:only-of-type {\n",
              "        vertical-align: middle;\n",
              "    }\n",
              "\n",
              "    .dataframe tbody tr th {\n",
              "        vertical-align: top;\n",
              "    }\n",
              "\n",
              "    .dataframe thead th {\n",
              "        text-align: right;\n",
              "    }\n",
              "</style>\n",
              "<table border=\"1\" class=\"dataframe\">\n",
              "  <thead>\n",
              "    <tr style=\"text-align: right;\">\n",
              "      <th></th>\n",
              "      <th>loan_amnt</th>\n",
              "      <th>int_rate</th>\n",
              "      <th>emp_length</th>\n",
              "      <th>annual_inc</th>\n",
              "      <th>dti</th>\n",
              "      <th>earliest_cr_line</th>\n",
              "      <th>pub_rec</th>\n",
              "      <th>revol_bal</th>\n",
              "      <th>revol_util</th>\n",
              "      <th>total_acc</th>\n",
              "      <th>mort_acc</th>\n",
              "      <th>fico</th>\n",
              "    </tr>\n",
              "  </thead>\n",
              "  <tbody>\n",
              "    <tr>\n",
              "      <th>0</th>\n",
              "      <td>18000.0</td>\n",
              "      <td>19.48</td>\n",
              "      <td>7.0</td>\n",
              "      <td>150000.0</td>\n",
              "      <td>9.39</td>\n",
              "      <td>2005</td>\n",
              "      <td>1.0</td>\n",
              "      <td>14052.0</td>\n",
              "      <td>40.7</td>\n",
              "      <td>27.0</td>\n",
              "      <td>2.0</td>\n",
              "      <td>667.0</td>\n",
              "    </tr>\n",
              "    <tr>\n",
              "      <th>1</th>\n",
              "      <td>4225.0</td>\n",
              "      <td>14.85</td>\n",
              "      <td>5.0</td>\n",
              "      <td>35000.0</td>\n",
              "      <td>15.22</td>\n",
              "      <td>2011</td>\n",
              "      <td>0.0</td>\n",
              "      <td>1058.0</td>\n",
              "      <td>24.6</td>\n",
              "      <td>6.0</td>\n",
              "      <td>0.0</td>\n",
              "      <td>727.0</td>\n",
              "    </tr>\n",
              "    <tr>\n",
              "      <th>2</th>\n",
              "      <td>16000.0</td>\n",
              "      <td>12.88</td>\n",
              "      <td>10.0</td>\n",
              "      <td>65000.0</td>\n",
              "      <td>18.96</td>\n",
              "      <td>1985</td>\n",
              "      <td>1.0</td>\n",
              "      <td>5157.0</td>\n",
              "      <td>54.3</td>\n",
              "      <td>20.0</td>\n",
              "      <td>0.0</td>\n",
              "      <td>677.0</td>\n",
              "    </tr>\n",
              "    <tr>\n",
              "      <th>3</th>\n",
              "      <td>24250.0</td>\n",
              "      <td>24.24</td>\n",
              "      <td>4.0</td>\n",
              "      <td>75000.0</td>\n",
              "      <td>20.84</td>\n",
              "      <td>2007</td>\n",
              "      <td>0.0</td>\n",
              "      <td>24799.0</td>\n",
              "      <td>65.3</td>\n",
              "      <td>21.0</td>\n",
              "      <td>2.0</td>\n",
              "      <td>662.0</td>\n",
              "    </tr>\n",
              "    <tr>\n",
              "      <th>4</th>\n",
              "      <td>10000.0</td>\n",
              "      <td>17.97</td>\n",
              "      <td>2.0</td>\n",
              "      <td>55000.0</td>\n",
              "      <td>35.70</td>\n",
              "      <td>2001</td>\n",
              "      <td>0.0</td>\n",
              "      <td>38623.0</td>\n",
              "      <td>78.0</td>\n",
              "      <td>28.0</td>\n",
              "      <td>6.0</td>\n",
              "      <td>687.0</td>\n",
              "    </tr>\n",
              "  </tbody>\n",
              "</table>\n",
              "</div>\n",
              "      <button class=\"colab-df-convert\" onclick=\"convertToInteractive('df-927fba80-b2f6-42d4-a3f4-cfe08abea012')\"\n",
              "              title=\"Convert this dataframe to an interactive table.\"\n",
              "              style=\"display:none;\">\n",
              "        \n",
              "  <svg xmlns=\"http://www.w3.org/2000/svg\" height=\"24px\"viewBox=\"0 0 24 24\"\n",
              "       width=\"24px\">\n",
              "    <path d=\"M0 0h24v24H0V0z\" fill=\"none\"/>\n",
              "    <path d=\"M18.56 5.44l.94 2.06.94-2.06 2.06-.94-2.06-.94-.94-2.06-.94 2.06-2.06.94zm-11 1L8.5 8.5l.94-2.06 2.06-.94-2.06-.94L8.5 2.5l-.94 2.06-2.06.94zm10 10l.94 2.06.94-2.06 2.06-.94-2.06-.94-.94-2.06-.94 2.06-2.06.94z\"/><path d=\"M17.41 7.96l-1.37-1.37c-.4-.4-.92-.59-1.43-.59-.52 0-1.04.2-1.43.59L10.3 9.45l-7.72 7.72c-.78.78-.78 2.05 0 2.83L4 21.41c.39.39.9.59 1.41.59.51 0 1.02-.2 1.41-.59l7.78-7.78 2.81-2.81c.8-.78.8-2.07 0-2.86zM5.41 20L4 18.59l7.72-7.72 1.47 1.35L5.41 20z\"/>\n",
              "  </svg>\n",
              "      </button>\n",
              "      \n",
              "  <style>\n",
              "    .colab-df-container {\n",
              "      display:flex;\n",
              "      flex-wrap:wrap;\n",
              "      gap: 12px;\n",
              "    }\n",
              "\n",
              "    .colab-df-convert {\n",
              "      background-color: #E8F0FE;\n",
              "      border: none;\n",
              "      border-radius: 50%;\n",
              "      cursor: pointer;\n",
              "      display: none;\n",
              "      fill: #1967D2;\n",
              "      height: 32px;\n",
              "      padding: 0 0 0 0;\n",
              "      width: 32px;\n",
              "    }\n",
              "\n",
              "    .colab-df-convert:hover {\n",
              "      background-color: #E2EBFA;\n",
              "      box-shadow: 0px 1px 2px rgba(60, 64, 67, 0.3), 0px 1px 3px 1px rgba(60, 64, 67, 0.15);\n",
              "      fill: #174EA6;\n",
              "    }\n",
              "\n",
              "    [theme=dark] .colab-df-convert {\n",
              "      background-color: #3B4455;\n",
              "      fill: #D2E3FC;\n",
              "    }\n",
              "\n",
              "    [theme=dark] .colab-df-convert:hover {\n",
              "      background-color: #434B5C;\n",
              "      box-shadow: 0px 1px 3px 1px rgba(0, 0, 0, 0.15);\n",
              "      filter: drop-shadow(0px 1px 2px rgba(0, 0, 0, 0.3));\n",
              "      fill: #FFFFFF;\n",
              "    }\n",
              "  </style>\n",
              "\n",
              "      <script>\n",
              "        const buttonEl =\n",
              "          document.querySelector('#df-927fba80-b2f6-42d4-a3f4-cfe08abea012 button.colab-df-convert');\n",
              "        buttonEl.style.display =\n",
              "          google.colab.kernel.accessAllowed ? 'block' : 'none';\n",
              "\n",
              "        async function convertToInteractive(key) {\n",
              "          const element = document.querySelector('#df-927fba80-b2f6-42d4-a3f4-cfe08abea012');\n",
              "          const dataTable =\n",
              "            await google.colab.kernel.invokeFunction('convertToInteractive',\n",
              "                                                     [key], {});\n",
              "          if (!dataTable) return;\n",
              "\n",
              "          const docLinkHtml = 'Like what you see? Visit the ' +\n",
              "            '<a target=\"_blank\" href=https://colab.research.google.com/notebooks/data_table.ipynb>data table notebook</a>'\n",
              "            + ' to learn more about interactive tables.';\n",
              "          element.innerHTML = '';\n",
              "          dataTable['output_type'] = 'display_data';\n",
              "          await google.colab.output.renderOutput(dataTable, element);\n",
              "          const docLink = document.createElement('div');\n",
              "          docLink.innerHTML = docLinkHtml;\n",
              "          element.appendChild(docLink);\n",
              "        }\n",
              "      </script>\n",
              "    </div>\n",
              "  </div>\n",
              "  "
            ]
          },
          "metadata": {},
          "execution_count": 67
        }
      ]
    },
    {
      "cell_type": "code",
      "source": [
        "cat_col = df.select_dtypes(include = 'object')"
      ],
      "metadata": {
        "id": "4ivTRgjHqJlD"
      },
      "execution_count": null,
      "outputs": []
    },
    {
      "cell_type": "code",
      "source": [
        "cat_col = cat_col.drop(['sub_grade','issue_d'],axis =1)"
      ],
      "metadata": {
        "id": "V2YCmd5ZkpzJ"
      },
      "execution_count": null,
      "outputs": []
    },
    {
      "cell_type": "code",
      "source": [
        "cat_col.describe().T"
      ],
      "metadata": {
        "colab": {
          "base_uri": "https://localhost:8080/",
          "height": 300
        },
        "id": "3m-qeWmsqlwM",
        "outputId": "c9e44e17-8c70-45b4-c610-72e0180937d2"
      },
      "execution_count": null,
      "outputs": [
        {
          "output_type": "execute_result",
          "data": {
            "text/plain": [
              "                      count unique                 top    freq\n",
              "term                 940981      2           36 months  692992\n",
              "grade                940981      7                   C  276788\n",
              "home_ownership       940981      6            MORTGAGE  460105\n",
              "verification_status  940981      3     Source Verified  355372\n",
              "purpose              940981     13  debt_consolidation  554004\n",
              "addr_state           940981     51                  CA  136948\n",
              "initial_list_status  940981      2                   w  554009\n",
              "application_type     940981      2          Individual  917835"
            ],
            "text/html": [
              "\n",
              "  <div id=\"df-8357fd2a-8be2-4a89-ae9b-530d32217bef\">\n",
              "    <div class=\"colab-df-container\">\n",
              "      <div>\n",
              "<style scoped>\n",
              "    .dataframe tbody tr th:only-of-type {\n",
              "        vertical-align: middle;\n",
              "    }\n",
              "\n",
              "    .dataframe tbody tr th {\n",
              "        vertical-align: top;\n",
              "    }\n",
              "\n",
              "    .dataframe thead th {\n",
              "        text-align: right;\n",
              "    }\n",
              "</style>\n",
              "<table border=\"1\" class=\"dataframe\">\n",
              "  <thead>\n",
              "    <tr style=\"text-align: right;\">\n",
              "      <th></th>\n",
              "      <th>count</th>\n",
              "      <th>unique</th>\n",
              "      <th>top</th>\n",
              "      <th>freq</th>\n",
              "    </tr>\n",
              "  </thead>\n",
              "  <tbody>\n",
              "    <tr>\n",
              "      <th>term</th>\n",
              "      <td>940981</td>\n",
              "      <td>2</td>\n",
              "      <td>36 months</td>\n",
              "      <td>692992</td>\n",
              "    </tr>\n",
              "    <tr>\n",
              "      <th>grade</th>\n",
              "      <td>940981</td>\n",
              "      <td>7</td>\n",
              "      <td>C</td>\n",
              "      <td>276788</td>\n",
              "    </tr>\n",
              "    <tr>\n",
              "      <th>home_ownership</th>\n",
              "      <td>940981</td>\n",
              "      <td>6</td>\n",
              "      <td>MORTGAGE</td>\n",
              "      <td>460105</td>\n",
              "    </tr>\n",
              "    <tr>\n",
              "      <th>verification_status</th>\n",
              "      <td>940981</td>\n",
              "      <td>3</td>\n",
              "      <td>Source Verified</td>\n",
              "      <td>355372</td>\n",
              "    </tr>\n",
              "    <tr>\n",
              "      <th>purpose</th>\n",
              "      <td>940981</td>\n",
              "      <td>13</td>\n",
              "      <td>debt_consolidation</td>\n",
              "      <td>554004</td>\n",
              "    </tr>\n",
              "    <tr>\n",
              "      <th>addr_state</th>\n",
              "      <td>940981</td>\n",
              "      <td>51</td>\n",
              "      <td>CA</td>\n",
              "      <td>136948</td>\n",
              "    </tr>\n",
              "    <tr>\n",
              "      <th>initial_list_status</th>\n",
              "      <td>940981</td>\n",
              "      <td>2</td>\n",
              "      <td>w</td>\n",
              "      <td>554009</td>\n",
              "    </tr>\n",
              "    <tr>\n",
              "      <th>application_type</th>\n",
              "      <td>940981</td>\n",
              "      <td>2</td>\n",
              "      <td>Individual</td>\n",
              "      <td>917835</td>\n",
              "    </tr>\n",
              "  </tbody>\n",
              "</table>\n",
              "</div>\n",
              "      <button class=\"colab-df-convert\" onclick=\"convertToInteractive('df-8357fd2a-8be2-4a89-ae9b-530d32217bef')\"\n",
              "              title=\"Convert this dataframe to an interactive table.\"\n",
              "              style=\"display:none;\">\n",
              "        \n",
              "  <svg xmlns=\"http://www.w3.org/2000/svg\" height=\"24px\"viewBox=\"0 0 24 24\"\n",
              "       width=\"24px\">\n",
              "    <path d=\"M0 0h24v24H0V0z\" fill=\"none\"/>\n",
              "    <path d=\"M18.56 5.44l.94 2.06.94-2.06 2.06-.94-2.06-.94-.94-2.06-.94 2.06-2.06.94zm-11 1L8.5 8.5l.94-2.06 2.06-.94-2.06-.94L8.5 2.5l-.94 2.06-2.06.94zm10 10l.94 2.06.94-2.06 2.06-.94-2.06-.94-.94-2.06-.94 2.06-2.06.94z\"/><path d=\"M17.41 7.96l-1.37-1.37c-.4-.4-.92-.59-1.43-.59-.52 0-1.04.2-1.43.59L10.3 9.45l-7.72 7.72c-.78.78-.78 2.05 0 2.83L4 21.41c.39.39.9.59 1.41.59.51 0 1.02-.2 1.41-.59l7.78-7.78 2.81-2.81c.8-.78.8-2.07 0-2.86zM5.41 20L4 18.59l7.72-7.72 1.47 1.35L5.41 20z\"/>\n",
              "  </svg>\n",
              "      </button>\n",
              "      \n",
              "  <style>\n",
              "    .colab-df-container {\n",
              "      display:flex;\n",
              "      flex-wrap:wrap;\n",
              "      gap: 12px;\n",
              "    }\n",
              "\n",
              "    .colab-df-convert {\n",
              "      background-color: #E8F0FE;\n",
              "      border: none;\n",
              "      border-radius: 50%;\n",
              "      cursor: pointer;\n",
              "      display: none;\n",
              "      fill: #1967D2;\n",
              "      height: 32px;\n",
              "      padding: 0 0 0 0;\n",
              "      width: 32px;\n",
              "    }\n",
              "\n",
              "    .colab-df-convert:hover {\n",
              "      background-color: #E2EBFA;\n",
              "      box-shadow: 0px 1px 2px rgba(60, 64, 67, 0.3), 0px 1px 3px 1px rgba(60, 64, 67, 0.15);\n",
              "      fill: #174EA6;\n",
              "    }\n",
              "\n",
              "    [theme=dark] .colab-df-convert {\n",
              "      background-color: #3B4455;\n",
              "      fill: #D2E3FC;\n",
              "    }\n",
              "\n",
              "    [theme=dark] .colab-df-convert:hover {\n",
              "      background-color: #434B5C;\n",
              "      box-shadow: 0px 1px 3px 1px rgba(0, 0, 0, 0.15);\n",
              "      filter: drop-shadow(0px 1px 2px rgba(0, 0, 0, 0.3));\n",
              "      fill: #FFFFFF;\n",
              "    }\n",
              "  </style>\n",
              "\n",
              "      <script>\n",
              "        const buttonEl =\n",
              "          document.querySelector('#df-8357fd2a-8be2-4a89-ae9b-530d32217bef button.colab-df-convert');\n",
              "        buttonEl.style.display =\n",
              "          google.colab.kernel.accessAllowed ? 'block' : 'none';\n",
              "\n",
              "        async function convertToInteractive(key) {\n",
              "          const element = document.querySelector('#df-8357fd2a-8be2-4a89-ae9b-530d32217bef');\n",
              "          const dataTable =\n",
              "            await google.colab.kernel.invokeFunction('convertToInteractive',\n",
              "                                                     [key], {});\n",
              "          if (!dataTable) return;\n",
              "\n",
              "          const docLinkHtml = 'Like what you see? Visit the ' +\n",
              "            '<a target=\"_blank\" href=https://colab.research.google.com/notebooks/data_table.ipynb>data table notebook</a>'\n",
              "            + ' to learn more about interactive tables.';\n",
              "          element.innerHTML = '';\n",
              "          dataTable['output_type'] = 'display_data';\n",
              "          await google.colab.output.renderOutput(dataTable, element);\n",
              "          const docLink = document.createElement('div');\n",
              "          docLink.innerHTML = docLinkHtml;\n",
              "          element.appendChild(docLink);\n",
              "        }\n",
              "      </script>\n",
              "    </div>\n",
              "  </div>\n",
              "  "
            ]
          },
          "metadata": {},
          "execution_count": 70
        }
      ]
    },
    {
      "cell_type": "code",
      "source": [
        "enc = LabelEncoder()\n",
        "Cat_col = cat_col.apply(LabelEncoder().fit_transform)"
      ],
      "metadata": {
        "id": "T_5yX4TOqcyU"
      },
      "execution_count": null,
      "outputs": []
    },
    {
      "cell_type": "code",
      "source": [
        "feature_col = pd.concat([num_col,Cat_col],axis =1)"
      ],
      "metadata": {
        "id": "4kc5GF27qhNN"
      },
      "execution_count": null,
      "outputs": []
    },
    {
      "cell_type": "code",
      "source": [
        "sss = StratifiedShuffleSplit(n_splits=1 , test_size = 0.2 , random_state=42)\n",
        "for train_index, test_index in sss.split(feature_col, target_col):\n",
        "  print(\"TRAIN:\", train_index, \"TEST:\", test_index)\n",
        "  X_train, X_test = feature_col.iloc[train_index], feature_col.iloc[test_index]\n",
        "  y_train, y_test = target_col.iloc[train_index], target_col.iloc[test_index]\n"
      ],
      "metadata": {
        "colab": {
          "base_uri": "https://localhost:8080/"
        },
        "id": "ZOa2JAANw5zA",
        "outputId": "15bfceb9-6f8e-4df7-c623-15eda2a5982e"
      },
      "execution_count": null,
      "outputs": [
        {
          "output_type": "stream",
          "name": "stdout",
          "text": [
            "TRAIN: [425965 345793 905771 ... 803017 207843 523517] TEST: [203678 646876 230273 ... 163379 624920 939557]\n"
          ]
        }
      ]
    },
    {
      "cell_type": "code",
      "source": [
        "ss = StandardScaler()\n",
        "X_train = ss.fit_transform(X_train)\n",
        "X_test = ss.fit_transform(X_test)  \n"
      ],
      "metadata": {
        "id": "LHj5ru4h51_V"
      },
      "execution_count": null,
      "outputs": []
    },
    {
      "cell_type": "code",
      "source": [
        "def fit_score_clf(clf,X_train,y_train,X_test,y_test, name = 'clf'):\n",
        "\n",
        "  clf.fit(X_train,y_train)\n",
        "  y_pred = clf.predict(X_test)\n",
        "  clf_report = pd.DataFrame(classification_report(y_test, y_pred, output_dict=True))\n",
        "  clf_report['clf'] = name\n",
        "    \n",
        "  return clf_report"
      ],
      "metadata": {
        "id": "4zYxvGq0w5wc"
      },
      "execution_count": null,
      "outputs": []
    },
    {
      "cell_type": "code",
      "source": [
        "def Confusion_matrix(clf):\n",
        "  y_pred = clf.predict(X_test)\n",
        "  plot_confusion_matrix(clf, X_test , y_test , normalize='true', cmap = 'Blues')\n"
      ],
      "metadata": {
        "id": "m80U6FZixP2J"
      },
      "execution_count": null,
      "outputs": []
    },
    {
      "cell_type": "code",
      "source": [
        "def rocscore(clf,X_train,y_train,X_test,y_test, name = 'clf'):\n",
        "\n",
        "  clf.fit(X_train, y_train)\n",
        "  ytrain_pred = clf.predict_proba(X_train)\n",
        "  print('Training roc-auc: {}'.format(roc_auc_score(y_train, ytrain_pred[:,1])))\n",
        "  ytest_pred = clf.predict_proba(X_test)\n",
        "  print('Test roc-auc: {}'.format(roc_auc_score(y_test, ytest_pred[:,1])))\n",
        "\n",
        "\n"
      ],
      "metadata": {
        "id": "Mg_onpZRfNNw"
      },
      "execution_count": null,
      "outputs": []
    },
    {
      "cell_type": "code",
      "source": [
        "roc_dict = {}   # ROC dict for FPR and TPR  (FPR = False Positive Rate  & TPR = True Positive Rate)\n",
        "\n",
        "def modify_roc_dict(clf, y_test, X_test, name ,dict_modify):                                         # clf = Classifier\n",
        "  fpr, tpr, thresholds = roc_curve(y_test,\n",
        "                                     clf.predict_proba(X_test)[:,1],\n",
        "                                     pos_label=1)\n",
        "  ROC_AUC_SCORE = roc_auc_score(y_test,clf.predict_proba(X_test)[:,1])\n",
        "  clf_roc_dict = {'fpr':fpr, 'tpr': tpr, 'thresholds': thresholds ,'ROC_AUC_SCORE': ROC_AUC_SCORE}\n",
        "    \n",
        "  dict_modify[name] = clf_roc_dict"
      ],
      "metadata": {
        "id": "256KnQGpxPzU"
      },
      "execution_count": null,
      "outputs": []
    },
    {
      "cell_type": "markdown",
      "source": [
        "# **WITHOUT OVERSAMPLING**\n",
        "\n",
        "# **BY HYPERPARAMETER TUNING**"
      ],
      "metadata": {
        "id": "awXh4uM5T5uS"
      }
    },
    {
      "cell_type": "markdown",
      "source": [
        "**LOGISTIC REGRESSION**"
      ],
      "metadata": {
        "id": "eo4oOMGAUUET"
      }
    },
    {
      "cell_type": "code",
      "source": [
        "lr1 = LogisticRegression(penalty='l1',\n",
        "                        C = 1.0,\n",
        "                        solver = 'liblinear',\n",
        "                        max_iter = 1000,\n",
        "                        n_jobs = 2,\n",
        "                        class_weight = 'balanced')\n",
        "\n",
        "lr1_report = fit_score_clf(lr1,X_train,y_train,X_test,y_test, name = 'lr1')\n",
        "lr1_report"
      ],
      "metadata": {
        "colab": {
          "base_uri": "https://localhost:8080/",
          "height": 174
        },
        "id": "TBM4nsrLH7nr",
        "outputId": "d0b17d44-c44d-4533-85ba-8bb0f9bc7fe0"
      },
      "execution_count": null,
      "outputs": [
        {
          "output_type": "execute_result",
          "data": {
            "text/plain": [
              "                       0             1  accuracy      macro avg  \\\n",
              "precision       0.806564      0.459677   0.65517       0.633120   \n",
              "recall          0.658418      0.647927   0.65517       0.653173   \n",
              "f1-score        0.725001      0.537804   0.65517       0.631402   \n",
              "support    129925.000000  58272.000000   0.65517  188197.000000   \n",
              "\n",
              "            weighted avg  clf  \n",
              "precision       0.699156  lr1  \n",
              "recall          0.655170  lr1  \n",
              "f1-score        0.667038  lr1  \n",
              "support    188197.000000  lr1  "
            ],
            "text/html": [
              "\n",
              "  <div id=\"df-7c76b17f-7127-4896-a998-037fc9bf688e\">\n",
              "    <div class=\"colab-df-container\">\n",
              "      <div>\n",
              "<style scoped>\n",
              "    .dataframe tbody tr th:only-of-type {\n",
              "        vertical-align: middle;\n",
              "    }\n",
              "\n",
              "    .dataframe tbody tr th {\n",
              "        vertical-align: top;\n",
              "    }\n",
              "\n",
              "    .dataframe thead th {\n",
              "        text-align: right;\n",
              "    }\n",
              "</style>\n",
              "<table border=\"1\" class=\"dataframe\">\n",
              "  <thead>\n",
              "    <tr style=\"text-align: right;\">\n",
              "      <th></th>\n",
              "      <th>0</th>\n",
              "      <th>1</th>\n",
              "      <th>accuracy</th>\n",
              "      <th>macro avg</th>\n",
              "      <th>weighted avg</th>\n",
              "      <th>clf</th>\n",
              "    </tr>\n",
              "  </thead>\n",
              "  <tbody>\n",
              "    <tr>\n",
              "      <th>precision</th>\n",
              "      <td>0.806564</td>\n",
              "      <td>0.459677</td>\n",
              "      <td>0.65517</td>\n",
              "      <td>0.633120</td>\n",
              "      <td>0.699156</td>\n",
              "      <td>lr1</td>\n",
              "    </tr>\n",
              "    <tr>\n",
              "      <th>recall</th>\n",
              "      <td>0.658418</td>\n",
              "      <td>0.647927</td>\n",
              "      <td>0.65517</td>\n",
              "      <td>0.653173</td>\n",
              "      <td>0.655170</td>\n",
              "      <td>lr1</td>\n",
              "    </tr>\n",
              "    <tr>\n",
              "      <th>f1-score</th>\n",
              "      <td>0.725001</td>\n",
              "      <td>0.537804</td>\n",
              "      <td>0.65517</td>\n",
              "      <td>0.631402</td>\n",
              "      <td>0.667038</td>\n",
              "      <td>lr1</td>\n",
              "    </tr>\n",
              "    <tr>\n",
              "      <th>support</th>\n",
              "      <td>129925.000000</td>\n",
              "      <td>58272.000000</td>\n",
              "      <td>0.65517</td>\n",
              "      <td>188197.000000</td>\n",
              "      <td>188197.000000</td>\n",
              "      <td>lr1</td>\n",
              "    </tr>\n",
              "  </tbody>\n",
              "</table>\n",
              "</div>\n",
              "      <button class=\"colab-df-convert\" onclick=\"convertToInteractive('df-7c76b17f-7127-4896-a998-037fc9bf688e')\"\n",
              "              title=\"Convert this dataframe to an interactive table.\"\n",
              "              style=\"display:none;\">\n",
              "        \n",
              "  <svg xmlns=\"http://www.w3.org/2000/svg\" height=\"24px\"viewBox=\"0 0 24 24\"\n",
              "       width=\"24px\">\n",
              "    <path d=\"M0 0h24v24H0V0z\" fill=\"none\"/>\n",
              "    <path d=\"M18.56 5.44l.94 2.06.94-2.06 2.06-.94-2.06-.94-.94-2.06-.94 2.06-2.06.94zm-11 1L8.5 8.5l.94-2.06 2.06-.94-2.06-.94L8.5 2.5l-.94 2.06-2.06.94zm10 10l.94 2.06.94-2.06 2.06-.94-2.06-.94-.94-2.06-.94 2.06-2.06.94z\"/><path d=\"M17.41 7.96l-1.37-1.37c-.4-.4-.92-.59-1.43-.59-.52 0-1.04.2-1.43.59L10.3 9.45l-7.72 7.72c-.78.78-.78 2.05 0 2.83L4 21.41c.39.39.9.59 1.41.59.51 0 1.02-.2 1.41-.59l7.78-7.78 2.81-2.81c.8-.78.8-2.07 0-2.86zM5.41 20L4 18.59l7.72-7.72 1.47 1.35L5.41 20z\"/>\n",
              "  </svg>\n",
              "      </button>\n",
              "      \n",
              "  <style>\n",
              "    .colab-df-container {\n",
              "      display:flex;\n",
              "      flex-wrap:wrap;\n",
              "      gap: 12px;\n",
              "    }\n",
              "\n",
              "    .colab-df-convert {\n",
              "      background-color: #E8F0FE;\n",
              "      border: none;\n",
              "      border-radius: 50%;\n",
              "      cursor: pointer;\n",
              "      display: none;\n",
              "      fill: #1967D2;\n",
              "      height: 32px;\n",
              "      padding: 0 0 0 0;\n",
              "      width: 32px;\n",
              "    }\n",
              "\n",
              "    .colab-df-convert:hover {\n",
              "      background-color: #E2EBFA;\n",
              "      box-shadow: 0px 1px 2px rgba(60, 64, 67, 0.3), 0px 1px 3px 1px rgba(60, 64, 67, 0.15);\n",
              "      fill: #174EA6;\n",
              "    }\n",
              "\n",
              "    [theme=dark] .colab-df-convert {\n",
              "      background-color: #3B4455;\n",
              "      fill: #D2E3FC;\n",
              "    }\n",
              "\n",
              "    [theme=dark] .colab-df-convert:hover {\n",
              "      background-color: #434B5C;\n",
              "      box-shadow: 0px 1px 3px 1px rgba(0, 0, 0, 0.15);\n",
              "      filter: drop-shadow(0px 1px 2px rgba(0, 0, 0, 0.3));\n",
              "      fill: #FFFFFF;\n",
              "    }\n",
              "  </style>\n",
              "\n",
              "      <script>\n",
              "        const buttonEl =\n",
              "          document.querySelector('#df-7c76b17f-7127-4896-a998-037fc9bf688e button.colab-df-convert');\n",
              "        buttonEl.style.display =\n",
              "          google.colab.kernel.accessAllowed ? 'block' : 'none';\n",
              "\n",
              "        async function convertToInteractive(key) {\n",
              "          const element = document.querySelector('#df-7c76b17f-7127-4896-a998-037fc9bf688e');\n",
              "          const dataTable =\n",
              "            await google.colab.kernel.invokeFunction('convertToInteractive',\n",
              "                                                     [key], {});\n",
              "          if (!dataTable) return;\n",
              "\n",
              "          const docLinkHtml = 'Like what you see? Visit the ' +\n",
              "            '<a target=\"_blank\" href=https://colab.research.google.com/notebooks/data_table.ipynb>data table notebook</a>'\n",
              "            + ' to learn more about interactive tables.';\n",
              "          element.innerHTML = '';\n",
              "          dataTable['output_type'] = 'display_data';\n",
              "          await google.colab.output.renderOutput(dataTable, element);\n",
              "          const docLink = document.createElement('div');\n",
              "          docLink.innerHTML = docLinkHtml;\n",
              "          element.appendChild(docLink);\n",
              "        }\n",
              "      </script>\n",
              "    </div>\n",
              "  </div>\n",
              "  "
            ]
          },
          "metadata": {},
          "execution_count": 81
        }
      ]
    },
    {
      "cell_type": "code",
      "source": [
        "Confusion_matrix(lr1)"
      ],
      "metadata": {
        "colab": {
          "base_uri": "https://localhost:8080/",
          "height": 284
        },
        "id": "hgpQyP7ST2HU",
        "outputId": "68e38428-f51d-45cc-a3e0-8dfdffaffa24"
      },
      "execution_count": null,
      "outputs": [
        {
          "output_type": "display_data",
          "data": {
            "text/plain": [
              "<Figure size 432x288 with 2 Axes>"
            ],
            "image/png": "[encoded data removed]"
          },
          "metadata": {}
        }
      ]
    },
    {
      "cell_type": "code",
      "source": [
        "rocscore(lr1,X_train,y_train,X_test,y_test, name = 'lr1')"
      ],
      "metadata": {
        "colab": {
          "base_uri": "https://localhost:8080/"
        },
        "id": "W2X-ifVsUB07",
        "outputId": "8e1c4bf3-e279-41db-f330-ee8bb8c1cf45"
      },
      "execution_count": null,
      "outputs": [
        {
          "output_type": "stream",
          "name": "stdout",
          "text": [
            "Training roc-auc: 0.7098542990273929\n",
            "Test roc-auc: 0.7114452285075125\n"
          ]
        }
      ]
    },
    {
      "cell_type": "code",
      "source": [
        "A = pd.DataFrame(lr1.coef_).T"
      ],
      "metadata": {
        "id": "Dc9m1CMKKau2"
      },
      "execution_count": null,
      "outputs": []
    },
    {
      "cell_type": "code",
      "source": [
        "importance_df = pd.DataFrame({\n",
        "    'feature': feature_col.columns,\n",
        "    'importance': abs(A[0])\n",
        "}).sort_values('importance', ascending=False)"
      ],
      "metadata": {
        "id": "ou-1Uo-qKQV8"
      },
      "execution_count": null,
      "outputs": []
    },
    {
      "cell_type": "code",
      "source": [
        "plt.title('Feature Importance')\n",
        "sns.barplot(data=importance_df.head(25), x='importance', y='feature');"
      ],
      "metadata": {
        "colab": {
          "base_uri": "https://localhost:8080/",
          "height": 301
        },
        "id": "WeDezHsJLG3K",
        "outputId": "6dd43e4d-dbbf-4a54-9ddf-186b77ace948"
      },
      "execution_count": null,
      "outputs": [
        {
          "output_type": "display_data",
          "data": {
            "text/plain": [
              "<Figure size 432x288 with 1 Axes>"
            ],
            "image/png": "[encoded data removed]"
          },
          "metadata": {}
        }
      ]
    },
    {
      "cell_type": "code",
      "source": [
        "(lr1.coef_.round(2))"
      ],
      "metadata": {
        "colab": {
          "base_uri": "https://localhost:8080/"
        },
        "id": "NUCW1vxRo198",
        "outputId": "9d899694-ed8a-45b9-9345-a658b4ad1334"
      },
      "execution_count": null,
      "outputs": [
        {
          "output_type": "execute_result",
          "data": {
            "text/plain": [
              "array([[ 0.16, -0.46, -0.07, -0.07,  0.25,  0.04,  0.02, -0.02, -0.09,\n",
              "        -0.05, -0.12, -0.26,  0.24,  0.81,  0.11,  0.06,  0.05,  0.  ,\n",
              "         0.11,  0.04]])"
            ]
          },
          "metadata": {},
          "execution_count": 87
        }
      ]
    },
    {
      "cell_type": "code",
      "source": [
        "lr1.intercept_.round(4)"
      ],
      "metadata": {
        "colab": {
          "base_uri": "https://localhost:8080/"
        },
        "id": "XMMN5GtowwXe",
        "outputId": "6da137f1-00e3-41a9-851b-f445fd5da4ad"
      },
      "execution_count": null,
      "outputs": [
        {
          "output_type": "execute_result",
          "data": {
            "text/plain": [
              "array([-0.1087])"
            ]
          },
          "metadata": {},
          "execution_count": 88
        }
      ]
    },
    {
      "cell_type": "code",
      "source": [
        "modify_roc_dict(clf = lr1 ,\n",
        "                y_test = y_test,\n",
        "                X_test = X_test,\n",
        "                name = 'Logistic_Regression1',\n",
        "                dict_modify = roc_dict)"
      ],
      "metadata": {
        "id": "TIsTGLF0w9rd"
      },
      "execution_count": null,
      "outputs": []
    },
    {
      "cell_type": "code",
      "source": [
        "RF = RandomForestClassifier(n_estimators=100,\n",
        "                            criterion= 'gini',\n",
        "                            n_jobs=-1, \n",
        "                            random_state = 42,\n",
        "                            max_depth = 15,\n",
        "                            class_weight = 'balanced')\n",
        "                            \n",
        "lin_RF_report = fit_score_clf(RF,X_train,y_train,X_test,y_test, name = 'Random_Forest')\n",
        "lin_RF_report\n"
      ],
      "metadata": {
        "colab": {
          "base_uri": "https://localhost:8080/",
          "height": 174
        },
        "id": "EQRFHNWayspi",
        "outputId": "d5c92106-3e40-45b5-ffc9-940f20431a9f"
      },
      "execution_count": null,
      "outputs": [
        {
          "output_type": "execute_result",
          "data": {
            "text/plain": [
              "                       0             1  accuracy      macro avg  \\\n",
              "precision       0.814041      0.488716  0.681148       0.651378   \n",
              "recall          0.697472      0.644752  0.681148       0.671112   \n",
              "f1-score        0.751261      0.555994  0.681148       0.653627   \n",
              "support    129925.000000  58272.000000  0.681148  188197.000000   \n",
              "\n",
              "            weighted avg            clf  \n",
              "precision       0.713309  Random_Forest  \n",
              "recall          0.681148  Random_Forest  \n",
              "f1-score        0.690800  Random_Forest  \n",
              "support    188197.000000  Random_Forest  "
            ],
            "text/html": [
              "\n",
              "  <div id=\"df-30f2e9a9-14b2-44d7-8b4c-1980a78b1c7a\">\n",
              "    <div class=\"colab-df-container\">\n",
              "      <div>\n",
              "<style scoped>\n",
              "    .dataframe tbody tr th:only-of-type {\n",
              "        vertical-align: middle;\n",
              "    }\n",
              "\n",
              "    .dataframe tbody tr th {\n",
              "        vertical-align: top;\n",
              "    }\n",
              "\n",
              "    .dataframe thead th {\n",
              "        text-align: right;\n",
              "    }\n",
              "</style>\n",
              "<table border=\"1\" class=\"dataframe\">\n",
              "  <thead>\n",
              "    <tr style=\"text-align: right;\">\n",
              "      <th></th>\n",
              "      <th>0</th>\n",
              "      <th>1</th>\n",
              "      <th>accuracy</th>\n",
              "      <th>macro avg</th>\n",
              "      <th>weighted avg</th>\n",
              "      <th>clf</th>\n",
              "    </tr>\n",
              "  </thead>\n",
              "  <tbody>\n",
              "    <tr>\n",
              "      <th>precision</th>\n",
              "      <td>0.814041</td>\n",
              "      <td>0.488716</td>\n",
              "      <td>0.681148</td>\n",
              "      <td>0.651378</td>\n",
              "      <td>0.713309</td>\n",
              "      <td>Random_Forest</td>\n",
              "    </tr>\n",
              "    <tr>\n",
              "      <th>recall</th>\n",
              "      <td>0.697472</td>\n",
              "      <td>0.644752</td>\n",
              "      <td>0.681148</td>\n",
              "      <td>0.671112</td>\n",
              "      <td>0.681148</td>\n",
              "      <td>Random_Forest</td>\n",
              "    </tr>\n",
              "    <tr>\n",
              "      <th>f1-score</th>\n",
              "      <td>0.751261</td>\n",
              "      <td>0.555994</td>\n",
              "      <td>0.681148</td>\n",
              "      <td>0.653627</td>\n",
              "      <td>0.690800</td>\n",
              "      <td>Random_Forest</td>\n",
              "    </tr>\n",
              "    <tr>\n",
              "      <th>support</th>\n",
              "      <td>129925.000000</td>\n",
              "      <td>58272.000000</td>\n",
              "      <td>0.681148</td>\n",
              "      <td>188197.000000</td>\n",
              "      <td>188197.000000</td>\n",
              "      <td>Random_Forest</td>\n",
              "    </tr>\n",
              "  </tbody>\n",
              "</table>\n",
              "</div>\n",
              "      <button class=\"colab-df-convert\" onclick=\"convertToInteractive('df-30f2e9a9-14b2-44d7-8b4c-1980a78b1c7a')\"\n",
              "              title=\"Convert this dataframe to an interactive table.\"\n",
              "              style=\"display:none;\">\n",
              "        \n",
              "  <svg xmlns=\"http://www.w3.org/2000/svg\" height=\"24px\"viewBox=\"0 0 24 24\"\n",
              "       width=\"24px\">\n",
              "    <path d=\"M0 0h24v24H0V0z\" fill=\"none\"/>\n",
              "    <path d=\"M18.56 5.44l.94 2.06.94-2.06 2.06-.94-2.06-.94-.94-2.06-.94 2.06-2.06.94zm-11 1L8.5 8.5l.94-2.06 2.06-.94-2.06-.94L8.5 2.5l-.94 2.06-2.06.94zm10 10l.94 2.06.94-2.06 2.06-.94-2.06-.94-.94-2.06-.94 2.06-2.06.94z\"/><path d=\"M17.41 7.96l-1.37-1.37c-.4-.4-.92-.59-1.43-.59-.52 0-1.04.2-1.43.59L10.3 9.45l-7.72 7.72c-.78.78-.78 2.05 0 2.83L4 21.41c.39.39.9.59 1.41.59.51 0 1.02-.2 1.41-.59l7.78-7.78 2.81-2.81c.8-.78.8-2.07 0-2.86zM5.41 20L4 18.59l7.72-7.72 1.47 1.35L5.41 20z\"/>\n",
              "  </svg>\n",
              "      </button>\n",
              "      \n",
              "  <style>\n",
              "    .colab-df-container {\n",
              "      display:flex;\n",
              "      flex-wrap:wrap;\n",
              "      gap: 12px;\n",
              "    }\n",
              "\n",
              "    .colab-df-convert {\n",
              "      background-color: #E8F0FE;\n",
              "      border: none;\n",
              "      border-radius: 50%;\n",
              "      cursor: pointer;\n",
              "      display: none;\n",
              "      fill: #1967D2;\n",
              "      height: 32px;\n",
              "      padding: 0 0 0 0;\n",
              "      width: 32px;\n",
              "    }\n",
              "\n",
              "    .colab-df-convert:hover {\n",
              "      background-color: #E2EBFA;\n",
              "      box-shadow: 0px 1px 2px rgba(60, 64, 67, 0.3), 0px 1px 3px 1px rgba(60, 64, 67, 0.15);\n",
              "      fill: #174EA6;\n",
              "    }\n",
              "\n",
              "    [theme=dark] .colab-df-convert {\n",
              "      background-color: #3B4455;\n",
              "      fill: #D2E3FC;\n",
              "    }\n",
              "\n",
              "    [theme=dark] .colab-df-convert:hover {\n",
              "      background-color: #434B5C;\n",
              "      box-shadow: 0px 1px 3px 1px rgba(0, 0, 0, 0.15);\n",
              "      filter: drop-shadow(0px 1px 2px rgba(0, 0, 0, 0.3));\n",
              "      fill: #FFFFFF;\n",
              "    }\n",
              "  </style>\n",
              "\n",
              "      <script>\n",
              "        const buttonEl =\n",
              "          document.querySelector('#df-30f2e9a9-14b2-44d7-8b4c-1980a78b1c7a button.colab-df-convert');\n",
              "        buttonEl.style.display =\n",
              "          google.colab.kernel.accessAllowed ? 'block' : 'none';\n",
              "\n",
              "        async function convertToInteractive(key) {\n",
              "          const element = document.querySelector('#df-30f2e9a9-14b2-44d7-8b4c-1980a78b1c7a');\n",
              "          const dataTable =\n",
              "            await google.colab.kernel.invokeFunction('convertToInteractive',\n",
              "                                                     [key], {});\n",
              "          if (!dataTable) return;\n",
              "\n",
              "          const docLinkHtml = 'Like what you see? Visit the ' +\n",
              "            '<a target=\"_blank\" href=https://colab.research.google.com/notebooks/data_table.ipynb>data table notebook</a>'\n",
              "            + ' to learn more about interactive tables.';\n",
              "          element.innerHTML = '';\n",
              "          dataTable['output_type'] = 'display_data';\n",
              "          await google.colab.output.renderOutput(dataTable, element);\n",
              "          const docLink = document.createElement('div');\n",
              "          docLink.innerHTML = docLinkHtml;\n",
              "          element.appendChild(docLink);\n",
              "        }\n",
              "      </script>\n",
              "    </div>\n",
              "  </div>\n",
              "  "
            ]
          },
          "metadata": {},
          "execution_count": 95
        }
      ]
    },
    {
      "cell_type": "code",
      "source": [
        "importance_df = pd.DataFrame({\n",
        "    'feature': feature_col.columns,\n",
        "    'importance': RF.feature_importances_\n",
        "}).sort_values('importance', ascending=False)"
      ],
      "metadata": {
        "id": "dEnubJmJIoTb"
      },
      "execution_count": null,
      "outputs": []
    },
    {
      "cell_type": "code",
      "source": [
        "plt.title('Feature Importance')\n",
        "sns.barplot(data=importance_df.head(21), x='importance', y='feature');"
      ],
      "metadata": {
        "colab": {
          "base_uri": "https://localhost:8080/",
          "height": 301
        },
        "id": "QigYcLRhI0JF",
        "outputId": "ae54cdb4-20ee-4a36-9448-f9f1df90c8e7"
      },
      "execution_count": null,
      "outputs": [
        {
          "output_type": "display_data",
          "data": {
            "text/plain": [
              "<Figure size 432x288 with 1 Axes>"
            ],
            "image/png": "[encoded data removed]"
          },
          "metadata": {}
        }
      ]
    },
    {
      "cell_type": "code",
      "source": [
        "Confusion_matrix(RF)"
      ],
      "metadata": {
        "colab": {
          "base_uri": "https://localhost:8080/",
          "height": 284
        },
        "id": "8uL61_tR0WCa",
        "outputId": "1c7a61a6-65c2-4258-e4d4-8a236413d455"
      },
      "execution_count": null,
      "outputs": [
        {
          "output_type": "display_data",
          "data": {
            "text/plain": [
              "<Figure size 432x288 with 2 Axes>"
            ],
            "image/png": "[encoded data removed]"
          },
          "metadata": {}
        }
      ]
    },
    {
      "cell_type": "code",
      "source": [
        "rocscore(RF,X_train,y_train,X_test,y_test, name = 'RF')"
      ],
      "metadata": {
        "colab": {
          "base_uri": "https://localhost:8080/"
        },
        "id": "5hrgY3rIhzez",
        "outputId": "733e91da-59f7-4d31-a8cc-0cb8b2163a7d"
      },
      "execution_count": null,
      "outputs": [
        {
          "output_type": "stream",
          "name": "stdout",
          "text": [
            "Training roc-auc: 1.0\n",
            "Test roc-auc: 0.737374249926324\n"
          ]
        }
      ]
    },
    {
      "cell_type": "code",
      "source": [
        "modify_roc_dict(clf = RF ,\n",
        "                y_test = y_test,\n",
        "                X_test = X_test,\n",
        "                name = 'Random Forest',\n",
        "                dict_modify = roc_dict)"
      ],
      "metadata": {
        "id": "1xcHEWiv0V_k"
      },
      "execution_count": null,
      "outputs": []
    },
    {
      "cell_type": "code",
      "source": [
        "xgb = xgb.XGBClassifier(n_estimators=300,\n",
        "                        learning_rate = 1,\n",
        "                            subsample=0.9,\n",
        "                            n_jobs=-1,\n",
        "                        max_depth=5)\n",
        "\n",
        "xgb_report = fit_score_clf(xgb, X_train, y_train, X_test,y_test, name='xgb')\n",
        "xgb_report"
      ],
      "metadata": {
        "colab": {
          "base_uri": "https://localhost:8080/",
          "height": 174
        },
        "id": "yoBLqCCVxPno",
        "outputId": "9ae503f2-ec86-4b91-cad1-017ffb102838"
      },
      "execution_count": null,
      "outputs": [
        {
          "output_type": "execute_result",
          "data": {
            "text/plain": [
              "                       0             1  accuracy      macro avg  \\\n",
              "precision       0.754804      0.548050  0.710814       0.651427   \n",
              "recall          0.860712      0.376596  0.710814       0.618654   \n",
              "f1-score        0.804287      0.446427  0.710814       0.625357   \n",
              "support    129925.000000  58272.000000  0.710814  188197.000000   \n",
              "\n",
              "            weighted avg  clf  \n",
              "precision       0.690786  xgb  \n",
              "recall          0.710814  xgb  \n",
              "f1-score        0.693481  xgb  \n",
              "support    188197.000000  xgb  "
            ],
            "text/html": [
              "\n",
              "  <div id=\"df-27e20f9d-0d03-40e4-9104-0a011c2f5ffe\">\n",
              "    <div class=\"colab-df-container\">\n",
              "      <div>\n",
              "<style scoped>\n",
              "    .dataframe tbody tr th:only-of-type {\n",
              "        vertical-align: middle;\n",
              "    }\n",
              "\n",
              "    .dataframe tbody tr th {\n",
              "        vertical-align: top;\n",
              "    }\n",
              "\n",
              "    .dataframe thead th {\n",
              "        text-align: right;\n",
              "    }\n",
              "</style>\n",
              "<table border=\"1\" class=\"dataframe\">\n",
              "  <thead>\n",
              "    <tr style=\"text-align: right;\">\n",
              "      <th></th>\n",
              "      <th>0</th>\n",
              "      <th>1</th>\n",
              "      <th>accuracy</th>\n",
              "      <th>macro avg</th>\n",
              "      <th>weighted avg</th>\n",
              "      <th>clf</th>\n",
              "    </tr>\n",
              "  </thead>\n",
              "  <tbody>\n",
              "    <tr>\n",
              "      <th>precision</th>\n",
              "      <td>0.754804</td>\n",
              "      <td>0.548050</td>\n",
              "      <td>0.710814</td>\n",
              "      <td>0.651427</td>\n",
              "      <td>0.690786</td>\n",
              "      <td>xgb</td>\n",
              "    </tr>\n",
              "    <tr>\n",
              "      <th>recall</th>\n",
              "      <td>0.860712</td>\n",
              "      <td>0.376596</td>\n",
              "      <td>0.710814</td>\n",
              "      <td>0.618654</td>\n",
              "      <td>0.710814</td>\n",
              "      <td>xgb</td>\n",
              "    </tr>\n",
              "    <tr>\n",
              "      <th>f1-score</th>\n",
              "      <td>0.804287</td>\n",
              "      <td>0.446427</td>\n",
              "      <td>0.710814</td>\n",
              "      <td>0.625357</td>\n",
              "      <td>0.693481</td>\n",
              "      <td>xgb</td>\n",
              "    </tr>\n",
              "    <tr>\n",
              "      <th>support</th>\n",
              "      <td>129925.000000</td>\n",
              "      <td>58272.000000</td>\n",
              "      <td>0.710814</td>\n",
              "      <td>188197.000000</td>\n",
              "      <td>188197.000000</td>\n",
              "      <td>xgb</td>\n",
              "    </tr>\n",
              "  </tbody>\n",
              "</table>\n",
              "</div>\n",
              "      <button class=\"colab-df-convert\" onclick=\"convertToInteractive('df-27e20f9d-0d03-40e4-9104-0a011c2f5ffe')\"\n",
              "              title=\"Convert this dataframe to an interactive table.\"\n",
              "              style=\"display:none;\">\n",
              "        \n",
              "  <svg xmlns=\"http://www.w3.org/2000/svg\" height=\"24px\"viewBox=\"0 0 24 24\"\n",
              "       width=\"24px\">\n",
              "    <path d=\"M0 0h24v24H0V0z\" fill=\"none\"/>\n",
              "    <path d=\"M18.56 5.44l.94 2.06.94-2.06 2.06-.94-2.06-.94-.94-2.06-.94 2.06-2.06.94zm-11 1L8.5 8.5l.94-2.06 2.06-.94-2.06-.94L8.5 2.5l-.94 2.06-2.06.94zm10 10l.94 2.06.94-2.06 2.06-.94-2.06-.94-.94-2.06-.94 2.06-2.06.94z\"/><path d=\"M17.41 7.96l-1.37-1.37c-.4-.4-.92-.59-1.43-.59-.52 0-1.04.2-1.43.59L10.3 9.45l-7.72 7.72c-.78.78-.78 2.05 0 2.83L4 21.41c.39.39.9.59 1.41.59.51 0 1.02-.2 1.41-.59l7.78-7.78 2.81-2.81c.8-.78.8-2.07 0-2.86zM5.41 20L4 18.59l7.72-7.72 1.47 1.35L5.41 20z\"/>\n",
              "  </svg>\n",
              "      </button>\n",
              "      \n",
              "  <style>\n",
              "    .colab-df-container {\n",
              "      display:flex;\n",
              "      flex-wrap:wrap;\n",
              "      gap: 12px;\n",
              "    }\n",
              "\n",
              "    .colab-df-convert {\n",
              "      background-color: #E8F0FE;\n",
              "      border: none;\n",
              "      border-radius: 50%;\n",
              "      cursor: pointer;\n",
              "      display: none;\n",
              "      fill: #1967D2;\n",
              "      height: 32px;\n",
              "      padding: 0 0 0 0;\n",
              "      width: 32px;\n",
              "    }\n",
              "\n",
              "    .colab-df-convert:hover {\n",
              "      background-color: #E2EBFA;\n",
              "      box-shadow: 0px 1px 2px rgba(60, 64, 67, 0.3), 0px 1px 3px 1px rgba(60, 64, 67, 0.15);\n",
              "      fill: #174EA6;\n",
              "    }\n",
              "\n",
              "    [theme=dark] .colab-df-convert {\n",
              "      background-color: #3B4455;\n",
              "      fill: #D2E3FC;\n",
              "    }\n",
              "\n",
              "    [theme=dark] .colab-df-convert:hover {\n",
              "      background-color: #434B5C;\n",
              "      box-shadow: 0px 1px 3px 1px rgba(0, 0, 0, 0.15);\n",
              "      filter: drop-shadow(0px 1px 2px rgba(0, 0, 0, 0.3));\n",
              "      fill: #FFFFFF;\n",
              "    }\n",
              "  </style>\n",
              "\n",
              "      <script>\n",
              "        const buttonEl =\n",
              "          document.querySelector('#df-27e20f9d-0d03-40e4-9104-0a011c2f5ffe button.colab-df-convert');\n",
              "        buttonEl.style.display =\n",
              "          google.colab.kernel.accessAllowed ? 'block' : 'none';\n",
              "\n",
              "        async function convertToInteractive(key) {\n",
              "          const element = document.querySelector('#df-27e20f9d-0d03-40e4-9104-0a011c2f5ffe');\n",
              "          const dataTable =\n",
              "            await google.colab.kernel.invokeFunction('convertToInteractive',\n",
              "                                                     [key], {});\n",
              "          if (!dataTable) return;\n",
              "\n",
              "          const docLinkHtml = 'Like what you see? Visit the ' +\n",
              "            '<a target=\"_blank\" href=https://colab.research.google.com/notebooks/data_table.ipynb>data table notebook</a>'\n",
              "            + ' to learn more about interactive tables.';\n",
              "          element.innerHTML = '';\n",
              "          dataTable['output_type'] = 'display_data';\n",
              "          await google.colab.output.renderOutput(dataTable, element);\n",
              "          const docLink = document.createElement('div');\n",
              "          docLink.innerHTML = docLinkHtml;\n",
              "          element.appendChild(docLink);\n",
              "        }\n",
              "      </script>\n",
              "    </div>\n",
              "  </div>\n",
              "  "
            ]
          },
          "metadata": {},
          "execution_count": 100
        }
      ]
    },
    {
      "cell_type": "code",
      "source": [
        "Confusion_matrix(xgb)"
      ],
      "metadata": {
        "colab": {
          "base_uri": "https://localhost:8080/",
          "height": 284
        },
        "id": "QenZ7er8xPiA",
        "outputId": "d6e641f0-634e-48a6-a54c-40cef7dab9f0"
      },
      "execution_count": null,
      "outputs": [
        {
          "output_type": "display_data",
          "data": {
            "text/plain": [
              "<Figure size 432x288 with 2 Axes>"
            ],
            "image/png": "[encoded data removed]"
          },
          "metadata": {}
        }
      ]
    },
    {
      "cell_type": "code",
      "source": [
        "modify_roc_dict(clf = xgb ,\n",
        "                y_test = y_test,\n",
        "                X_test = X_test,\n",
        "                name = 'XGB',\n",
        "                dict_modify = roc_dict)"
      ],
      "metadata": {
        "id": "1veJ2GCQ4xI7"
      },
      "execution_count": null,
      "outputs": []
    },
    {
      "cell_type": "code",
      "source": [
        "for key in roc_dict:\n",
        "    clf = roc_dict[key]\n",
        "    plt.plot(clf['fpr'], clf['tpr'], label=key)\n",
        "plt.xlabel(\"FPR\")\n",
        "plt.ylabel(\"TPR\")\n",
        "plt.title(\"ROC\")\n",
        "plt.plot([0,1], [0,1], label='No Discrimination', linestyle='-', dashes=(5, 5))\n",
        "plt.legend()\n",
        "plt.show()"
      ],
      "metadata": {
        "colab": {
          "base_uri": "https://localhost:8080/",
          "height": 301
        },
        "id": "-K5-nPXF73j4",
        "outputId": "0b84ac24-fb4a-4bdc-b6ca-ba8bbd837384"
      },
      "execution_count": null,
      "outputs": [
        {
          "output_type": "display_data",
          "data": {
            "text/plain": [
              "<Figure size 432x288 with 1 Axes>"
            ],
            "image/png": "[encoded data removed]"
          },
          "metadata": {}
        }
      ]
    },
    {
      "cell_type": "markdown",
      "source": [
        "# **WITH OVERSAMPLING**"
      ],
      "metadata": {
        "id": "fYyySDMUYAih"
      }
    },
    {
      "cell_type": "code",
      "source": [
        "df1 = df_copy[df_copy['loan_status'] == 1]"
      ],
      "metadata": {
        "id": "_ntDoZcvYKfH"
      },
      "execution_count": null,
      "outputs": []
    },
    {
      "cell_type": "code",
      "source": [
        "DF = pd.concat([df_copy,df1],axis = 0)"
      ],
      "metadata": {
        "id": "dzqeqRJ9YKcM"
      },
      "execution_count": null,
      "outputs": []
    },
    {
      "cell_type": "code",
      "source": [
        "DF = DF.dropna().reset_index()"
      ],
      "metadata": {
        "id": "_GBVyl8y9rLY"
      },
      "execution_count": null,
      "outputs": []
    },
    {
      "cell_type": "code",
      "source": [
        "Target_col = pd.DataFrame(DF['loan_status'])"
      ],
      "metadata": {
        "id": "a6facT8A52Pr"
      },
      "execution_count": null,
      "outputs": []
    },
    {
      "cell_type": "code",
      "source": [
        "DF = DF.drop(['index','loan_status','level_0'],axis =1)"
      ],
      "metadata": {
        "id": "6S5Kx9rcYKZq"
      },
      "execution_count": null,
      "outputs": []
    },
    {
      "cell_type": "code",
      "source": [
        "Num_col = DF.select_dtypes(exclude = 'object')"
      ],
      "metadata": {
        "id": "ekPcgXwwYKXI"
      },
      "execution_count": null,
      "outputs": []
    },
    {
      "cell_type": "code",
      "source": [
        "Num_col = Num_col.drop(['pub_rec_bankruptcies','open_acc','installment'],axis =1)"
      ],
      "metadata": {
        "id": "NkloiJ-LYKUX"
      },
      "execution_count": null,
      "outputs": []
    },
    {
      "cell_type": "code",
      "source": [
        "CAT_col = DF.select_dtypes(include = 'object')"
      ],
      "metadata": {
        "id": "8aeBljvuYJJj"
      },
      "execution_count": null,
      "outputs": []
    },
    {
      "cell_type": "code",
      "source": [
        "CAT_col = CAT_col.drop(['sub_grade','issue_d'],axis =1)"
      ],
      "metadata": {
        "id": "q8QMFH33YJGr"
      },
      "execution_count": null,
      "outputs": []
    },
    {
      "cell_type": "code",
      "source": [
        "enc = LabelEncoder()\n",
        "CAT_COL = CAT_col.apply(LabelEncoder().fit_transform)"
      ],
      "metadata": {
        "id": "f1ShRYmXYI9Z"
      },
      "execution_count": null,
      "outputs": []
    },
    {
      "cell_type": "code",
      "source": [
        "Feature_col = pd.concat([Num_col,CAT_COL],axis = 1)"
      ],
      "metadata": {
        "id": "sicPnFjlYI6i"
      },
      "execution_count": null,
      "outputs": []
    },
    {
      "cell_type": "code",
      "source": [
        "sss = StratifiedShuffleSplit(n_splits=1 , test_size = 0.2 , random_state=42)\n",
        "for train_index, test_index in sss.split(Feature_col, Target_col):\n",
        "  print(\"TRAIN:\", train_index, \"TEST:\", test_index)\n",
        "  X_train1, X_test1 = Feature_col.iloc[train_index], Feature_col.iloc[test_index]\n",
        "  y_train1, y_test1 = Target_col.iloc[train_index], Target_col.iloc[test_index]\n"
      ],
      "metadata": {
        "colab": {
          "base_uri": "https://localhost:8080/"
        },
        "id": "vTcEBjcGYI3b",
        "outputId": "47937bd8-62e3-4af3-8883-916addf03f34"
      },
      "execution_count": null,
      "outputs": [
        {
          "output_type": "stream",
          "name": "stdout",
          "text": [
            "TRAIN: [ 923522  120806  844409 ...  440421 1009402  236286] TEST: [320557 374792 723167 ... 242876 442627 260522]\n"
          ]
        }
      ]
    },
    {
      "cell_type": "code",
      "source": [
        "ss = StandardScaler()\n",
        "X_train1 = ss.fit_transform(X_train1)\n",
        "X_test1 = ss.fit_transform(X_test1)  \n"
      ],
      "metadata": {
        "id": "y4OhVeswYI00"
      },
      "execution_count": null,
      "outputs": []
    },
    {
      "cell_type": "code",
      "source": [
        "def Confusion_matrix(clf):\n",
        "  y_pred = clf.predict(X_test1)\n",
        "  plot_confusion_matrix(clf, X_test1 , y_test1 , normalize='true', cmap = 'Blues')\n"
      ],
      "metadata": {
        "id": "m-pgBrm5YIyc"
      },
      "execution_count": null,
      "outputs": []
    },
    {
      "cell_type": "code",
      "source": [
        "roc_dict1 = {}   # ROC dict for FPR and TPR  (FPR = False Positive Rate  & TPR = True Positive Rate)\n",
        "\n",
        "def modify_roc_dict(clf, y_test, X_test, name ,dict_modify):                                         # clf = Classifier\n",
        "  fpr, tpr, thresholds = roc_curve(y_test1,\n",
        "                                     clf.predict_proba(X_test1)[:,1],\n",
        "                                     pos_label=1)\n",
        "  ROC_AUC_SCORE = roc_auc_score(y_test,clf.predict_proba(X_test1)[:,1])\n",
        "  clf_roc_dict = {'fpr':fpr, 'tpr': tpr, 'thresholds': thresholds ,'ROC_AUC_SCORE': ROC_AUC_SCORE}\n",
        "    \n",
        "  dict_modify[name] = clf_roc_dict"
      ],
      "metadata": {
        "id": "TS62aJ2EYIsc"
      },
      "execution_count": null,
      "outputs": []
    },
    {
      "cell_type": "code",
      "source": [
        "lr2 = LogisticRegression(penalty='l1',\n",
        "                        C = 1.0,\n",
        "                        solver = 'liblinear',\n",
        "                        max_iter = 1000,\n",
        "                        n_jobs = 2)\n",
        "\n",
        "lr2_report = fit_score_clf(lr2,X_train1,y_train1,X_test1,y_test1, name = 'lr2')\n",
        "lr2_report"
      ],
      "metadata": {
        "colab": {
          "base_uri": "https://localhost:8080/",
          "height": 174
        },
        "id": "aRXCFM03YIKC",
        "outputId": "2fa8a918-7b86-4ff8-d157-0c64d6eaf402"
      },
      "execution_count": null,
      "outputs": [
        {
          "output_type": "execute_result",
          "data": {
            "text/plain": [
              "                       0              1  accuracy      macro avg  \\\n",
              "precision       0.657847       0.644247  0.651963       0.651047   \n",
              "recall          0.708024       0.589465  0.651963       0.648744   \n",
              "f1-score        0.682014       0.615640  0.651963       0.648827   \n",
              "support    129925.000000  116543.000000  0.651963  246468.000000   \n",
              "\n",
              "            weighted avg  clf  \n",
              "precision       0.651416  lr2  \n",
              "recall          0.651963  lr2  \n",
              "f1-score        0.650629  lr2  \n",
              "support    246468.000000  lr2  "
            ],
            "text/html": [
              "\n",
              "  <div id=\"df-6e8ccf79-118d-4e3d-baf3-47850d29c753\">\n",
              "    <div class=\"colab-df-container\">\n",
              "      <div>\n",
              "<style scoped>\n",
              "    .dataframe tbody tr th:only-of-type {\n",
              "        vertical-align: middle;\n",
              "    }\n",
              "\n",
              "    .dataframe tbody tr th {\n",
              "        vertical-align: top;\n",
              "    }\n",
              "\n",
              "    .dataframe thead th {\n",
              "        text-align: right;\n",
              "    }\n",
              "</style>\n",
              "<table border=\"1\" class=\"dataframe\">\n",
              "  <thead>\n",
              "    <tr style=\"text-align: right;\">\n",
              "      <th></th>\n",
              "      <th>0</th>\n",
              "      <th>1</th>\n",
              "      <th>accuracy</th>\n",
              "      <th>macro avg</th>\n",
              "      <th>weighted avg</th>\n",
              "      <th>clf</th>\n",
              "    </tr>\n",
              "  </thead>\n",
              "  <tbody>\n",
              "    <tr>\n",
              "      <th>precision</th>\n",
              "      <td>0.657847</td>\n",
              "      <td>0.644247</td>\n",
              "      <td>0.651963</td>\n",
              "      <td>0.651047</td>\n",
              "      <td>0.651416</td>\n",
              "      <td>lr2</td>\n",
              "    </tr>\n",
              "    <tr>\n",
              "      <th>recall</th>\n",
              "      <td>0.708024</td>\n",
              "      <td>0.589465</td>\n",
              "      <td>0.651963</td>\n",
              "      <td>0.648744</td>\n",
              "      <td>0.651963</td>\n",
              "      <td>lr2</td>\n",
              "    </tr>\n",
              "    <tr>\n",
              "      <th>f1-score</th>\n",
              "      <td>0.682014</td>\n",
              "      <td>0.615640</td>\n",
              "      <td>0.651963</td>\n",
              "      <td>0.648827</td>\n",
              "      <td>0.650629</td>\n",
              "      <td>lr2</td>\n",
              "    </tr>\n",
              "    <tr>\n",
              "      <th>support</th>\n",
              "      <td>129925.000000</td>\n",
              "      <td>116543.000000</td>\n",
              "      <td>0.651963</td>\n",
              "      <td>246468.000000</td>\n",
              "      <td>246468.000000</td>\n",
              "      <td>lr2</td>\n",
              "    </tr>\n",
              "  </tbody>\n",
              "</table>\n",
              "</div>\n",
              "      <button class=\"colab-df-convert\" onclick=\"convertToInteractive('df-6e8ccf79-118d-4e3d-baf3-47850d29c753')\"\n",
              "              title=\"Convert this dataframe to an interactive table.\"\n",
              "              style=\"display:none;\">\n",
              "        \n",
              "  <svg xmlns=\"http://www.w3.org/2000/svg\" height=\"24px\"viewBox=\"0 0 24 24\"\n",
              "       width=\"24px\">\n",
              "    <path d=\"M0 0h24v24H0V0z\" fill=\"none\"/>\n",
              "    <path d=\"M18.56 5.44l.94 2.06.94-2.06 2.06-.94-2.06-.94-.94-2.06-.94 2.06-2.06.94zm-11 1L8.5 8.5l.94-2.06 2.06-.94-2.06-.94L8.5 2.5l-.94 2.06-2.06.94zm10 10l.94 2.06.94-2.06 2.06-.94-2.06-.94-.94-2.06-.94 2.06-2.06.94z\"/><path d=\"M17.41 7.96l-1.37-1.37c-.4-.4-.92-.59-1.43-.59-.52 0-1.04.2-1.43.59L10.3 9.45l-7.72 7.72c-.78.78-.78 2.05 0 2.83L4 21.41c.39.39.9.59 1.41.59.51 0 1.02-.2 1.41-.59l7.78-7.78 2.81-2.81c.8-.78.8-2.07 0-2.86zM5.41 20L4 18.59l7.72-7.72 1.47 1.35L5.41 20z\"/>\n",
              "  </svg>\n",
              "      </button>\n",
              "      \n",
              "  <style>\n",
              "    .colab-df-container {\n",
              "      display:flex;\n",
              "      flex-wrap:wrap;\n",
              "      gap: 12px;\n",
              "    }\n",
              "\n",
              "    .colab-df-convert {\n",
              "      background-color: #E8F0FE;\n",
              "      border: none;\n",
              "      border-radius: 50%;\n",
              "      cursor: pointer;\n",
              "      display: none;\n",
              "      fill: #1967D2;\n",
              "      height: 32px;\n",
              "      padding: 0 0 0 0;\n",
              "      width: 32px;\n",
              "    }\n",
              "\n",
              "    .colab-df-convert:hover {\n",
              "      background-color: #E2EBFA;\n",
              "      box-shadow: 0px 1px 2px rgba(60, 64, 67, 0.3), 0px 1px 3px 1px rgba(60, 64, 67, 0.15);\n",
              "      fill: #174EA6;\n",
              "    }\n",
              "\n",
              "    [theme=dark] .colab-df-convert {\n",
              "      background-color: #3B4455;\n",
              "      fill: #D2E3FC;\n",
              "    }\n",
              "\n",
              "    [theme=dark] .colab-df-convert:hover {\n",
              "      background-color: #434B5C;\n",
              "      box-shadow: 0px 1px 3px 1px rgba(0, 0, 0, 0.15);\n",
              "      filter: drop-shadow(0px 1px 2px rgba(0, 0, 0, 0.3));\n",
              "      fill: #FFFFFF;\n",
              "    }\n",
              "  </style>\n",
              "\n",
              "      <script>\n",
              "        const buttonEl =\n",
              "          document.querySelector('#df-6e8ccf79-118d-4e3d-baf3-47850d29c753 button.colab-df-convert');\n",
              "        buttonEl.style.display =\n",
              "          google.colab.kernel.accessAllowed ? 'block' : 'none';\n",
              "\n",
              "        async function convertToInteractive(key) {\n",
              "          const element = document.querySelector('#df-6e8ccf79-118d-4e3d-baf3-47850d29c753');\n",
              "          const dataTable =\n",
              "            await google.colab.kernel.invokeFunction('convertToInteractive',\n",
              "                                                     [key], {});\n",
              "          if (!dataTable) return;\n",
              "\n",
              "          const docLinkHtml = 'Like what you see? Visit the ' +\n",
              "            '<a target=\"_blank\" href=https://colab.research.google.com/notebooks/data_table.ipynb>data table notebook</a>'\n",
              "            + ' to learn more about interactive tables.';\n",
              "          element.innerHTML = '';\n",
              "          dataTable['output_type'] = 'display_data';\n",
              "          await google.colab.output.renderOutput(dataTable, element);\n",
              "          const docLink = document.createElement('div');\n",
              "          docLink.innerHTML = docLinkHtml;\n",
              "          element.appendChild(docLink);\n",
              "        }\n",
              "      </script>\n",
              "    </div>\n",
              "  </div>\n",
              "  "
            ]
          },
          "metadata": {},
          "execution_count": 53
        }
      ]
    },
    {
      "cell_type": "code",
      "source": [
        "Confusion_matrix(lr2)"
      ],
      "metadata": {
        "colab": {
          "base_uri": "https://localhost:8080/",
          "height": 284
        },
        "id": "XBfMyD8fYIAa",
        "outputId": "3fbcadf6-21c2-4ecf-c507-dc00f1c24450"
      },
      "execution_count": null,
      "outputs": [
        {
          "output_type": "display_data",
          "data": {
            "text/plain": [
              "<Figure size 432x288 with 2 Axes>"
            ],
            "image/png": "[encoded data removed]"
          },
          "metadata": {}
        }
      ]
    },
    {
      "cell_type": "code",
      "source": [
        "A = pd.DataFrame(lr2.coef_).T"
      ],
      "metadata": {
        "id": "LZxGo3hXYH9h"
      },
      "execution_count": null,
      "outputs": []
    },
    {
      "cell_type": "code",
      "source": [
        "importance_df = pd.DataFrame({\n",
        "    'feature': Feature_col.columns,\n",
        "    'importance': abs(A[0])\n",
        "}).sort_values('importance', ascending=False)"
      ],
      "metadata": {
        "id": "tgZ8sRkOAxAP"
      },
      "execution_count": null,
      "outputs": []
    },
    {
      "cell_type": "code",
      "source": [
        "plt.title('Feature Importance')\n",
        "sns.barplot(data=importance_df.head(25), x='importance', y='feature');"
      ],
      "metadata": {
        "colab": {
          "base_uri": "https://localhost:8080/",
          "height": 301
        },
        "id": "3nCDpOtYAw9W",
        "outputId": "a11d6bb2-2e89-4e69-de4f-5372f99901d8"
      },
      "execution_count": null,
      "outputs": [
        {
          "output_type": "display_data",
          "data": {
            "text/plain": [
              "<Figure size 432x288 with 1 Axes>"
            ],
            "image/png": "[encoded data removed]"
          },
          "metadata": {}
        }
      ]
    },
    {
      "cell_type": "code",
      "source": [
        "(lr2.coef_.round(2))"
      ],
      "metadata": {
        "colab": {
          "base_uri": "https://localhost:8080/"
        },
        "id": "abB3ppEKAw7I",
        "outputId": "913e1440-8a69-4f5a-be1d-a7d9248a1ebe"
      },
      "execution_count": null,
      "outputs": [
        {
          "output_type": "execute_result",
          "data": {
            "text/plain": [
              "array([[ 0.17, -0.45, -0.07, -0.07,  0.25,  0.04,  0.02, -0.02, -0.09,\n",
              "        -0.05, -0.12, -0.26,  0.25,  0.82,  0.11,  0.05,  0.05,  0.  ,\n",
              "         0.11,  0.04]])"
            ]
          },
          "metadata": {},
          "execution_count": 58
        }
      ]
    },
    {
      "cell_type": "code",
      "source": [
        "lr2.intercept_.round(4)"
      ],
      "metadata": {
        "colab": {
          "base_uri": "https://localhost:8080/"
        },
        "id": "W-qOxH9ZAw4g",
        "outputId": "d19384e0-3d53-479d-9fa1-c16ccc833fa2"
      },
      "execution_count": null,
      "outputs": [
        {
          "output_type": "execute_result",
          "data": {
            "text/plain": [
              "array([-0.1191])"
            ]
          },
          "metadata": {},
          "execution_count": 59
        }
      ]
    },
    {
      "cell_type": "code",
      "source": [
        "modify_roc_dict(clf = lr2 ,\n",
        "                y_test = y_test1,\n",
        "                X_test = X_test1,\n",
        "                name = 'Logistic_Regression2',\n",
        "                dict_modify = roc_dict1)"
      ],
      "metadata": {
        "id": "I6ELfm8eAw2A"
      },
      "execution_count": null,
      "outputs": []
    },
    {
      "cell_type": "code",
      "source": [
        "RF1 = RandomForestClassifier(n_estimators=100,\n",
        "                            criterion= 'gini',\n",
        "                            n_jobs=-1, \n",
        "                            random_state = 42)\n",
        "                            \n",
        "lin_RF1_report = fit_score_clf(RF1,X_train1,y_train1,X_test1,y_test1, name = 'Random_Forest1')\n",
        "lin_RF1_report\n"
      ],
      "metadata": {
        "colab": {
          "base_uri": "https://localhost:8080/",
          "height": 174
        },
        "id": "tPvMbF85Awy8",
        "outputId": "c0e67420-3f71-44cf-bbab-024aaaf4061e"
      },
      "execution_count": null,
      "outputs": [
        {
          "output_type": "execute_result",
          "data": {
            "text/plain": [
              "                       0              1  accuracy      macro avg  \\\n",
              "precision       0.897162       0.825526  0.860485       0.861344   \n",
              "recall          0.830541       0.893867  0.860485       0.862204   \n",
              "f1-score        0.862567       0.858339  0.860485       0.860453   \n",
              "support    129925.000000  116543.000000  0.860485  246468.000000   \n",
              "\n",
              "            weighted avg             clf  \n",
              "precision       0.863289  Random_Forest1  \n",
              "recall          0.860485  Random_Forest1  \n",
              "f1-score        0.860568  Random_Forest1  \n",
              "support    246468.000000  Random_Forest1  "
            ],
            "text/html": [
              "\n",
              "  <div id=\"df-417cef23-da34-4286-a4a1-f30f5b7f79e6\">\n",
              "    <div class=\"colab-df-container\">\n",
              "      <div>\n",
              "<style scoped>\n",
              "    .dataframe tbody tr th:only-of-type {\n",
              "        vertical-align: middle;\n",
              "    }\n",
              "\n",
              "    .dataframe tbody tr th {\n",
              "        vertical-align: top;\n",
              "    }\n",
              "\n",
              "    .dataframe thead th {\n",
              "        text-align: right;\n",
              "    }\n",
              "</style>\n",
              "<table border=\"1\" class=\"dataframe\">\n",
              "  <thead>\n",
              "    <tr style=\"text-align: right;\">\n",
              "      <th></th>\n",
              "      <th>0</th>\n",
              "      <th>1</th>\n",
              "      <th>accuracy</th>\n",
              "      <th>macro avg</th>\n",
              "      <th>weighted avg</th>\n",
              "      <th>clf</th>\n",
              "    </tr>\n",
              "  </thead>\n",
              "  <tbody>\n",
              "    <tr>\n",
              "      <th>precision</th>\n",
              "      <td>0.897162</td>\n",
              "      <td>0.825526</td>\n",
              "      <td>0.860485</td>\n",
              "      <td>0.861344</td>\n",
              "      <td>0.863289</td>\n",
              "      <td>Random_Forest1</td>\n",
              "    </tr>\n",
              "    <tr>\n",
              "      <th>recall</th>\n",
              "      <td>0.830541</td>\n",
              "      <td>0.893867</td>\n",
              "      <td>0.860485</td>\n",
              "      <td>0.862204</td>\n",
              "      <td>0.860485</td>\n",
              "      <td>Random_Forest1</td>\n",
              "    </tr>\n",
              "    <tr>\n",
              "      <th>f1-score</th>\n",
              "      <td>0.862567</td>\n",
              "      <td>0.858339</td>\n",
              "      <td>0.860485</td>\n",
              "      <td>0.860453</td>\n",
              "      <td>0.860568</td>\n",
              "      <td>Random_Forest1</td>\n",
              "    </tr>\n",
              "    <tr>\n",
              "      <th>support</th>\n",
              "      <td>129925.000000</td>\n",
              "      <td>116543.000000</td>\n",
              "      <td>0.860485</td>\n",
              "      <td>246468.000000</td>\n",
              "      <td>246468.000000</td>\n",
              "      <td>Random_Forest1</td>\n",
              "    </tr>\n",
              "  </tbody>\n",
              "</table>\n",
              "</div>\n",
              "      <button class=\"colab-df-convert\" onclick=\"convertToInteractive('df-417cef23-da34-4286-a4a1-f30f5b7f79e6')\"\n",
              "              title=\"Convert this dataframe to an interactive table.\"\n",
              "              style=\"display:none;\">\n",
              "        \n",
              "  <svg xmlns=\"http://www.w3.org/2000/svg\" height=\"24px\"viewBox=\"0 0 24 24\"\n",
              "       width=\"24px\">\n",
              "    <path d=\"M0 0h24v24H0V0z\" fill=\"none\"/>\n",
              "    <path d=\"M18.56 5.44l.94 2.06.94-2.06 2.06-.94-2.06-.94-.94-2.06-.94 2.06-2.06.94zm-11 1L8.5 8.5l.94-2.06 2.06-.94-2.06-.94L8.5 2.5l-.94 2.06-2.06.94zm10 10l.94 2.06.94-2.06 2.06-.94-2.06-.94-.94-2.06-.94 2.06-2.06.94z\"/><path d=\"M17.41 7.96l-1.37-1.37c-.4-.4-.92-.59-1.43-.59-.52 0-1.04.2-1.43.59L10.3 9.45l-7.72 7.72c-.78.78-.78 2.05 0 2.83L4 21.41c.39.39.9.59 1.41.59.51 0 1.02-.2 1.41-.59l7.78-7.78 2.81-2.81c.8-.78.8-2.07 0-2.86zM5.41 20L4 18.59l7.72-7.72 1.47 1.35L5.41 20z\"/>\n",
              "  </svg>\n",
              "      </button>\n",
              "      \n",
              "  <style>\n",
              "    .colab-df-container {\n",
              "      display:flex;\n",
              "      flex-wrap:wrap;\n",
              "      gap: 12px;\n",
              "    }\n",
              "\n",
              "    .colab-df-convert {\n",
              "      background-color: #E8F0FE;\n",
              "      border: none;\n",
              "      border-radius: 50%;\n",
              "      cursor: pointer;\n",
              "      display: none;\n",
              "      fill: #1967D2;\n",
              "      height: 32px;\n",
              "      padding: 0 0 0 0;\n",
              "      width: 32px;\n",
              "    }\n",
              "\n",
              "    .colab-df-convert:hover {\n",
              "      background-color: #E2EBFA;\n",
              "      box-shadow: 0px 1px 2px rgba(60, 64, 67, 0.3), 0px 1px 3px 1px rgba(60, 64, 67, 0.15);\n",
              "      fill: #174EA6;\n",
              "    }\n",
              "\n",
              "    [theme=dark] .colab-df-convert {\n",
              "      background-color: #3B4455;\n",
              "      fill: #D2E3FC;\n",
              "    }\n",
              "\n",
              "    [theme=dark] .colab-df-convert:hover {\n",
              "      background-color: #434B5C;\n",
              "      box-shadow: 0px 1px 3px 1px rgba(0, 0, 0, 0.15);\n",
              "      filter: drop-shadow(0px 1px 2px rgba(0, 0, 0, 0.3));\n",
              "      fill: #FFFFFF;\n",
              "    }\n",
              "  </style>\n",
              "\n",
              "      <script>\n",
              "        const buttonEl =\n",
              "          document.querySelector('#df-417cef23-da34-4286-a4a1-f30f5b7f79e6 button.colab-df-convert');\n",
              "        buttonEl.style.display =\n",
              "          google.colab.kernel.accessAllowed ? 'block' : 'none';\n",
              "\n",
              "        async function convertToInteractive(key) {\n",
              "          const element = document.querySelector('#df-417cef23-da34-4286-a4a1-f30f5b7f79e6');\n",
              "          const dataTable =\n",
              "            await google.colab.kernel.invokeFunction('convertToInteractive',\n",
              "                                                     [key], {});\n",
              "          if (!dataTable) return;\n",
              "\n",
              "          const docLinkHtml = 'Like what you see? Visit the ' +\n",
              "            '<a target=\"_blank\" href=https://colab.research.google.com/notebooks/data_table.ipynb>data table notebook</a>'\n",
              "            + ' to learn more about interactive tables.';\n",
              "          element.innerHTML = '';\n",
              "          dataTable['output_type'] = 'display_data';\n",
              "          await google.colab.output.renderOutput(dataTable, element);\n",
              "          const docLink = document.createElement('div');\n",
              "          docLink.innerHTML = docLinkHtml;\n",
              "          element.appendChild(docLink);\n",
              "        }\n",
              "      </script>\n",
              "    </div>\n",
              "  </div>\n",
              "  "
            ]
          },
          "metadata": {},
          "execution_count": 62
        }
      ]
    },
    {
      "cell_type": "code",
      "source": [
        "importance_df = pd.DataFrame({\n",
        "    'feature': Feature_col.columns,\n",
        "    'importance': RF1.feature_importances_\n",
        "}).sort_values('importance', ascending=False)"
      ],
      "metadata": {
        "id": "2Uz3TYZnAwwX"
      },
      "execution_count": null,
      "outputs": []
    },
    {
      "cell_type": "code",
      "source": [
        "plt.title('Feature Importance')\n",
        "sns.barplot(data=importance_df.head(21), x='importance', y='feature');"
      ],
      "metadata": {
        "colab": {
          "base_uri": "https://localhost:8080/",
          "height": 301
        },
        "id": "NEGfElQKBmRf",
        "outputId": "703b1ec7-0e86-465a-eb2e-463e6c395a60"
      },
      "execution_count": null,
      "outputs": [
        {
          "output_type": "display_data",
          "data": {
            "text/plain": [
              "<Figure size 432x288 with 1 Axes>"
            ],
            "image/png": "[encoded data removed]"
          },
          "metadata": {}
        }
      ]
    },
    {
      "cell_type": "code",
      "source": [
        "Confusion_matrix(RF1)"
      ],
      "metadata": {
        "colab": {
          "base_uri": "https://localhost:8080/",
          "height": 284
        },
        "id": "Kmjt7PoDBmOk",
        "outputId": "703274b0-7c2e-4671-e2ed-bbcd38972b0e"
      },
      "execution_count": null,
      "outputs": [
        {
          "output_type": "display_data",
          "data": {
            "text/plain": [
              "<Figure size 432x288 with 2 Axes>"
            ],
            "image/png": "[encoded data removed]"
          },
          "metadata": {}
        }
      ]
    },
    {
      "cell_type": "code",
      "source": [
        "modify_roc_dict(clf = RF1 ,\n",
        "                y_test = y_test1,\n",
        "                X_test = X_test1,\n",
        "                name = 'Random Forest1',\n",
        "                dict_modify = roc_dict1)"
      ],
      "metadata": {
        "id": "keRq4JvcBmMK"
      },
      "execution_count": null,
      "outputs": []
    },
    {
      "cell_type": "code",
      "source": [
        "xgb1 = xgb.XGBClassifier(n_estimators=300,\n",
        "                            subsample=0.9,\n",
        "                            n_jobs=-1)\n",
        "xgb1.fit(X_train1,y_train1)\n",
        "y_pred = xgb1.predict(X_test1)\n",
        "xgb1_report = pd.DataFrame(classification_report(y_test1, y_pred, output_dict=True))\n"
      ],
      "metadata": {
        "id": "BYbr1zUYBmJg"
      },
      "execution_count": null,
      "outputs": []
    },
    {
      "cell_type": "code",
      "source": [
        "xgb1_report"
      ],
      "metadata": {
        "colab": {
          "base_uri": "https://localhost:8080/",
          "height": 174
        },
        "id": "4WswoGAeIU79",
        "outputId": "19235671-9e30-4b97-826a-cc24a1ed3fa7"
      },
      "execution_count": null,
      "outputs": [
        {
          "output_type": "execute_result",
          "data": {
            "text/plain": [
              "                       0              1  accuracy      macro avg  \\\n",
              "precision       0.691805       0.684900  0.688787       0.688353   \n",
              "recall          0.738726       0.633114  0.688787       0.685920   \n",
              "f1-score        0.714496       0.657990  0.688787       0.686243   \n",
              "support    129925.000000  116543.000000  0.688787  246468.000000   \n",
              "\n",
              "            weighted avg  \n",
              "precision       0.688540  \n",
              "recall          0.688787  \n",
              "f1-score        0.687777  \n",
              "support    246468.000000  "
            ],
            "text/html": [
              "\n",
              "  <div id=\"df-4a5c9673-1772-49ae-a07d-9c96901092fa\">\n",
              "    <div class=\"colab-df-container\">\n",
              "      <div>\n",
              "<style scoped>\n",
              "    .dataframe tbody tr th:only-of-type {\n",
              "        vertical-align: middle;\n",
              "    }\n",
              "\n",
              "    .dataframe tbody tr th {\n",
              "        vertical-align: top;\n",
              "    }\n",
              "\n",
              "    .dataframe thead th {\n",
              "        text-align: right;\n",
              "    }\n",
              "</style>\n",
              "<table border=\"1\" class=\"dataframe\">\n",
              "  <thead>\n",
              "    <tr style=\"text-align: right;\">\n",
              "      <th></th>\n",
              "      <th>0</th>\n",
              "      <th>1</th>\n",
              "      <th>accuracy</th>\n",
              "      <th>macro avg</th>\n",
              "      <th>weighted avg</th>\n",
              "    </tr>\n",
              "  </thead>\n",
              "  <tbody>\n",
              "    <tr>\n",
              "      <th>precision</th>\n",
              "      <td>0.691805</td>\n",
              "      <td>0.684900</td>\n",
              "      <td>0.688787</td>\n",
              "      <td>0.688353</td>\n",
              "      <td>0.688540</td>\n",
              "    </tr>\n",
              "    <tr>\n",
              "      <th>recall</th>\n",
              "      <td>0.738726</td>\n",
              "      <td>0.633114</td>\n",
              "      <td>0.688787</td>\n",
              "      <td>0.685920</td>\n",
              "      <td>0.688787</td>\n",
              "    </tr>\n",
              "    <tr>\n",
              "      <th>f1-score</th>\n",
              "      <td>0.714496</td>\n",
              "      <td>0.657990</td>\n",
              "      <td>0.688787</td>\n",
              "      <td>0.686243</td>\n",
              "      <td>0.687777</td>\n",
              "    </tr>\n",
              "    <tr>\n",
              "      <th>support</th>\n",
              "      <td>129925.000000</td>\n",
              "      <td>116543.000000</td>\n",
              "      <td>0.688787</td>\n",
              "      <td>246468.000000</td>\n",
              "      <td>246468.000000</td>\n",
              "    </tr>\n",
              "  </tbody>\n",
              "</table>\n",
              "</div>\n",
              "      <button class=\"colab-df-convert\" onclick=\"convertToInteractive('df-4a5c9673-1772-49ae-a07d-9c96901092fa')\"\n",
              "              title=\"Convert this dataframe to an interactive table.\"\n",
              "              style=\"display:none;\">\n",
              "        \n",
              "  <svg xmlns=\"http://www.w3.org/2000/svg\" height=\"24px\"viewBox=\"0 0 24 24\"\n",
              "       width=\"24px\">\n",
              "    <path d=\"M0 0h24v24H0V0z\" fill=\"none\"/>\n",
              "    <path d=\"M18.56 5.44l.94 2.06.94-2.06 2.06-.94-2.06-.94-.94-2.06-.94 2.06-2.06.94zm-11 1L8.5 8.5l.94-2.06 2.06-.94-2.06-.94L8.5 2.5l-.94 2.06-2.06.94zm10 10l.94 2.06.94-2.06 2.06-.94-2.06-.94-.94-2.06-.94 2.06-2.06.94z\"/><path d=\"M17.41 7.96l-1.37-1.37c-.4-.4-.92-.59-1.43-.59-.52 0-1.04.2-1.43.59L10.3 9.45l-7.72 7.72c-.78.78-.78 2.05 0 2.83L4 21.41c.39.39.9.59 1.41.59.51 0 1.02-.2 1.41-.59l7.78-7.78 2.81-2.81c.8-.78.8-2.07 0-2.86zM5.41 20L4 18.59l7.72-7.72 1.47 1.35L5.41 20z\"/>\n",
              "  </svg>\n",
              "      </button>\n",
              "      \n",
              "  <style>\n",
              "    .colab-df-container {\n",
              "      display:flex;\n",
              "      flex-wrap:wrap;\n",
              "      gap: 12px;\n",
              "    }\n",
              "\n",
              "    .colab-df-convert {\n",
              "      background-color: #E8F0FE;\n",
              "      border: none;\n",
              "      border-radius: 50%;\n",
              "      cursor: pointer;\n",
              "      display: none;\n",
              "      fill: #1967D2;\n",
              "      height: 32px;\n",
              "      padding: 0 0 0 0;\n",
              "      width: 32px;\n",
              "    }\n",
              "\n",
              "    .colab-df-convert:hover {\n",
              "      background-color: #E2EBFA;\n",
              "      box-shadow: 0px 1px 2px rgba(60, 64, 67, 0.3), 0px 1px 3px 1px rgba(60, 64, 67, 0.15);\n",
              "      fill: #174EA6;\n",
              "    }\n",
              "\n",
              "    [theme=dark] .colab-df-convert {\n",
              "      background-color: #3B4455;\n",
              "      fill: #D2E3FC;\n",
              "    }\n",
              "\n",
              "    [theme=dark] .colab-df-convert:hover {\n",
              "      background-color: #434B5C;\n",
              "      box-shadow: 0px 1px 3px 1px rgba(0, 0, 0, 0.15);\n",
              "      filter: drop-shadow(0px 1px 2px rgba(0, 0, 0, 0.3));\n",
              "      fill: #FFFFFF;\n",
              "    }\n",
              "  </style>\n",
              "\n",
              "      <script>\n",
              "        const buttonEl =\n",
              "          document.querySelector('#df-4a5c9673-1772-49ae-a07d-9c96901092fa button.colab-df-convert');\n",
              "        buttonEl.style.display =\n",
              "          google.colab.kernel.accessAllowed ? 'block' : 'none';\n",
              "\n",
              "        async function convertToInteractive(key) {\n",
              "          const element = document.querySelector('#df-4a5c9673-1772-49ae-a07d-9c96901092fa');\n",
              "          const dataTable =\n",
              "            await google.colab.kernel.invokeFunction('convertToInteractive',\n",
              "                                                     [key], {});\n",
              "          if (!dataTable) return;\n",
              "\n",
              "          const docLinkHtml = 'Like what you see? Visit the ' +\n",
              "            '<a target=\"_blank\" href=https://colab.research.google.com/notebooks/data_table.ipynb>data table notebook</a>'\n",
              "            + ' to learn more about interactive tables.';\n",
              "          element.innerHTML = '';\n",
              "          dataTable['output_type'] = 'display_data';\n",
              "          await google.colab.output.renderOutput(dataTable, element);\n",
              "          const docLink = document.createElement('div');\n",
              "          docLink.innerHTML = docLinkHtml;\n",
              "          element.appendChild(docLink);\n",
              "        }\n",
              "      </script>\n",
              "    </div>\n",
              "  </div>\n",
              "  "
            ]
          },
          "metadata": {},
          "execution_count": 70
        }
      ]
    },
    {
      "cell_type": "code",
      "source": [
        "y_pred = xgb1.predict(X_test1)\n",
        "plot_confusion_matrix(xgb1, X_test1 , y_test1 , normalize='true', cmap = 'Blues')\n"
      ],
      "metadata": {
        "colab": {
          "base_uri": "https://localhost:8080/",
          "height": 303
        },
        "id": "f7ClNtxtBmG5",
        "outputId": "5d0ec7a3-d438-404c-cc6a-55096dd3c39f"
      },
      "execution_count": null,
      "outputs": [
        {
          "output_type": "execute_result",
          "data": {
            "text/plain": [
              "<sklearn.metrics._plot.confusion_matrix.ConfusionMatrixDisplay at 0x7f6513aae9d0>"
            ]
          },
          "metadata": {},
          "execution_count": 71
        },
        {
          "output_type": "display_data",
          "data": {
            "text/plain": [
              "<Figure size 432x288 with 2 Axes>"
            ],
            "image/png": "[encoded data removed]"
          },
          "metadata": {}
        }
      ]
    },
    {
      "cell_type": "code",
      "source": [
        "importance_df = pd.DataFrame({\n",
        "    'feature': Feature_col.columns,\n",
        "    'importance': xgb1.feature_importances_\n",
        "}).sort_values('importance', ascending=False)"
      ],
      "metadata": {
        "id": "RP5yBmICIFB0"
      },
      "execution_count": null,
      "outputs": []
    },
    {
      "cell_type": "code",
      "source": [
        "plt.title('Feature Importance')\n",
        "sns.barplot(data=importance_df.head(21), x='importance', y='feature');"
      ],
      "metadata": {
        "colab": {
          "base_uri": "https://localhost:8080/",
          "height": 301
        },
        "id": "DhrA_z6fIE-0",
        "outputId": "bb63fd3d-a623-4a52-ca66-45d04f53a9cc"
      },
      "execution_count": null,
      "outputs": [
        {
          "output_type": "display_data",
          "data": {
            "text/plain": [
              "<Figure size 432x288 with 1 Axes>"
            ],
            "image/png": "[encoded data removed]"
          },
          "metadata": {}
        }
      ]
    },
    {
      "cell_type": "code",
      "source": [
        "modify_roc_dict(clf = xgb1 ,\n",
        "                y_test = y_test1,\n",
        "                X_test = X_test1,\n",
        "                name = 'XGB1',\n",
        "                dict_modify = roc_dict1)"
      ],
      "metadata": {
        "id": "m4SofoIOCglg"
      },
      "execution_count": null,
      "outputs": []
    },
    {
      "cell_type": "code",
      "source": [
        "for key in roc_dict1:\n",
        "    clf = roc_dict1[key]\n",
        "    plt.plot(clf['fpr'], clf['tpr'], label=key)\n",
        "plt.xlabel(\"FPR\")\n",
        "plt.ylabel(\"TPR\")\n",
        "plt.title(\"ROC\")\n",
        "plt.plot([0,1], [0,1], label='No Discrimination', linestyle='-', dashes=(5, 5))\n",
        "plt.legend()\n",
        "plt.show()"
      ],
      "metadata": {
        "colab": {
          "base_uri": "https://localhost:8080/",
          "height": 301
        },
        "id": "39lM26K0Cgil",
        "outputId": "1a035104-b798-4e94-81fc-9eb022e05a9c"
      },
      "execution_count": null,
      "outputs": [
        {
          "output_type": "display_data",
          "data": {
            "text/plain": [
              "<Figure size 432x288 with 1 Axes>"
            ],
            "image/png": "[encoded data removed]"
          },
          "metadata": {}
        }
      ]
    }
  ]
}